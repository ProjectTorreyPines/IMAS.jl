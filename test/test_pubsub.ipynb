{
 "cells": [
  {
   "cell_type": "code",
   "execution_count": 1,
   "metadata": {},
   "outputs": [],
   "source": [
    "#println(\"pubsub channel:\")\n",
    "#identifier = readline()\n",
    "identifier = 14184084757413120774\n",
    "\n",
    "import IMAS\n",
    "\n",
    "REDIS_HOST = \"localhost\"\n",
    "REDIS_PORT = 55000\n",
    "REDIS_PASSWORD = \"redispw\"\n",
    "\n",
    "client_in = IMAS.Jedis.Client(host=REDIS_HOST, port=REDIS_PORT, password=REDIS_PASSWORD)\n",
    "client_out = IMAS.Jedis.Client(host=REDIS_HOST, port=REDIS_PORT, password=REDIS_PASSWORD)\n",
    "\n",
    "function run_controller(channel; kw...)\n",
    "    kw = NamedTuple(kw)\n",
    "    if ismissing(my_controller.outputs, :data)\n",
    "        IMAS.pid_controller(my_controller, kw.P, kw.I, kw.D)\n",
    "    end\n",
    "    output =  my_controller(kw.setpoint, kw.value, kw.time)\n",
    "    identifier, controller_name, from_to = split(channel, \"__\")\n",
    "    IMAS.Jedis.publish(\"$(identifier)__$(controller_name)__ctrl2fuse\", \"{\\\"control\\\": $(output)}\"; client=client_out)\n",
    "    return output\n",
    "end\n",
    "\n",
    "my_controller = IMAS.controllers__linear_controller()\n",
    "my_controller.name = \"ip\"\n",
    "\n",
    "IMAS.listen_and_call(\"$(identifier)__ip__fuse2ctrl\", run_controller; client=client_in)"
   ]
  },
  {
   "cell_type": "code",
   "execution_count": 3,
   "metadata": {},
   "outputs": [
    {
     "data": {
      "text/plain": [
       "0.0"
      ]
     },
     "metadata": {},
     "output_type": "display_data"
    }
   ],
   "source": [
    "time=0.0"
   ]
  },
  {
   "cell_type": "code",
   "execution_count": 28,
   "metadata": {},
   "outputs": [
    {
     "data": {
      "text/plain": [
       "-0.4358208292550578"
      ]
     },
     "metadata": {},
     "output_type": "display_data"
    }
   ],
   "source": [
    "time += 1.0\n",
    "out = run_controller(\"3078182344941713819__ip__fuse2ctrl\"; :P => 2.6762056372849983e-8, :I => 2.6762056372849982e-9, :value => 9.916400659989871e6, :D => 0.0, :setpoint => 1.0166666666666668e7, :time => time)"
   ]
  }
 ],
 "metadata": {
  "kernelspec": {
   "display_name": "Julia 1.10.0",
   "language": "julia",
   "name": "julia-1.10"
  },
  "language_info": {
   "file_extension": ".jl",
   "mimetype": "application/julia",
   "name": "julia",
   "version": "1.10.0"
  }
 },
 "nbformat": 4,
 "nbformat_minor": 2
}
