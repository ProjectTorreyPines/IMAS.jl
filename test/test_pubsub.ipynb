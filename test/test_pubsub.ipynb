{
 "cells": [
  {
   "cell_type": "code",
   "execution_count": 16,
   "metadata": {
    "execution": {
     "iopub.execute_input": "2024-02-08T13:49:41.954000-08:00",
     "iopub.status.busy": "2024-02-08T13:49:41.954000-08:00",
     "iopub.status.idle": "2024-02-08T13:49:41.973000-08:00",
     "shell.execute_reply": "2024-02-08T13:49:41.971000-08:00"
    },
    "tags": []
   },
   "outputs": [
    {
     "data": {
      "text/plain": [
       "\"8236122725091915643__ip\""
      ]
     },
     "execution_count": 16,
     "metadata": {},
     "output_type": "execute_result"
    }
   ],
   "source": [
    "identifier = 8236122725091915643\n",
    "\n",
    "import IMAS\n",
    "import IJulia\n",
    "\n",
    "if true\n",
    "    # if using Redis via docker\n",
    "    REDIS_HOST = \"localhost\"\n",
    "    REDIS_PORT = 55000\n",
    "    REDIS_PASSWORD = \"redispw\"\n",
    "else\n",
    "    REDIS_HOST = \"redis-19689.c281.us-east-1-2.ec2.cloud.redislabs.com\"\n",
    "    REDIS_PORT = 19689\n",
    "    REDIS_PASSWORD = \"xU96yd6dhDgRULYmSY9aFTDJGPh7t3DA\"\n",
    "end\n",
    "\n",
    "stream=\"$(identifier)__ip\""
   ]
  },
  {
   "cell_type": "code",
   "execution_count": 17,
   "metadata": {
    "execution": {
     "iopub.execute_input": "2024-02-08T13:49:43.138000-08:00",
     "iopub.status.busy": "2024-02-08T13:49:43.138000-08:00",
     "iopub.status.idle": "2024-02-08T13:49:43.286000-08:00",
     "shell.execute_reply": "2024-02-08T13:49:43.286000-08:00"
    },
    "tags": []
   },
   "outputs": [
    {
     "data": {
      "text/plain": [
       "Any[]"
      ]
     },
     "execution_count": 17,
     "metadata": {},
     "output_type": "execute_result"
    }
   ],
   "source": [
    "subscription_client = IMAS.Jedis.Client(host=REDIS_HOST, port=REDIS_PORT, password=REDIS_PASSWORD);\n",
    "IMAS.stream_register_service(stream; client=subscription_client)"
   ]
  },
  {
   "cell_type": "code",
   "execution_count": 18,
   "metadata": {
    "execution": {
     "iopub.execute_input": "2024-02-08T13:49:43.745000-08:00",
     "iopub.status.busy": "2024-02-08T13:49:43.745000-08:00",
     "iopub.status.idle": "2024-02-08T13:49:43.889000-08:00",
     "shell.execute_reply": "2024-02-08T13:49:43.889000-08:00"
    },
    "tags": []
   },
   "outputs": [],
   "source": [
    "client = IMAS.Jedis.Client(host=REDIS_HOST, port=REDIS_PORT, password=REDIS_PASSWORD);"
   ]
  },
  {
   "cell_type": "code",
   "execution_count": 30,
   "metadata": {
    "execution": {
     "iopub.execute_input": "2024-02-08T15:05:23.930000-08:00",
     "iopub.status.busy": "2024-02-08T15:05:23.926000-08:00",
     "iopub.status.idle": "2024-02-08T15:06:06.618000-08:00",
     "shell.execute_reply": "2024-02-08T15:06:06.618000-08:00"
    },
    "tags": []
   },
   "outputs": [
    {
     "data": {
      "text/plain": [
       "60"
      ]
     },
     "metadata": {},
     "output_type": "display_data"
    },
    {
     "name": "stdout",
     "output_type": "stream",
     "text": [
      "DONE!\n"
     ]
    }
   ],
   "source": [
    "function run_controller(;kw...)\n",
    "    kw = NamedTuple(kw)\n",
    "    if ismissing(my_controller.outputs, :data)\n",
    "        IMAS.pid_controller(my_controller, kw.P, kw.I, kw.D)\n",
    "    end\n",
    "    return my_controller(kw.setpoint, kw.value, kw.time)\n",
    "end\n",
    "\n",
    "my_controller = IMAS.controllers__linear_controller()\n",
    "my_controller.name = \"ip\"\n",
    "\n",
    "k=0\n",
    "while true\n",
    "    IJulia.clear_output(true)\n",
    "    display(k)\n",
    "    inputs = IMAS.pop!(client, \"$(stream)__fuse2ctrl\"; timeout=10.0, error_on_timeout=false)\n",
    "    if inputs === nothing\n",
    "        println(\"DONE!\")\n",
    "        break\n",
    "    end\n",
    "    control = run_controller(; inputs...)\n",
    "    IMAS.push!(client, \"$(stream)__ctrl2fuse\"; control)\n",
    "    k+=1\n",
    "end"
   ]
  },
  {
   "cell_type": "code",
   "execution_count": null,
   "metadata": {},
   "outputs": [],
   "source": []
  }
 ],
 "metadata": {
  "kernelspec": {
   "display_name": "Julia 1.10.0",
   "language": "julia",
   "name": "julia-1.10"
  },
  "language_info": {
   "file_extension": ".jl",
   "mimetype": "application/julia",
   "name": "julia",
   "version": "1.10.0"
  }
 },
 "nbformat": 4,
 "nbformat_minor": 4
}
