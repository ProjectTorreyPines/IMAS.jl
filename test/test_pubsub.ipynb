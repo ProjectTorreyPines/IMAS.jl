{
 "cells": [
  {
   "cell_type": "code",
   "execution_count": 1,
   "metadata": {
    "execution": {
     "iopub.execute_input": "2024-02-09T00:05:54.871000-08:00",
     "iopub.status.busy": "2024-02-09T00:05:54.624000-08:00",
     "iopub.status.idle": "2024-02-09T00:06:04.749000-08:00",
     "shell.execute_reply": "2024-02-09T00:06:04.725000-08:00"
    },
    "tags": []
   },
   "outputs": [
    {
     "name": "stderr",
     "output_type": "stream",
     "text": [
      "\u001b[36m\u001b[1m[ \u001b[22m\u001b[39m\u001b[36m\u001b[1mInfo: \u001b[22m\u001b[39mPrecompiling IMAS [13ead8c1-b7d1-41bb-a6d0-5b8b65ed587a]\n"
     ]
    }
   ],
   "source": [
    "import IMAS\n",
    "import IJulia\n",
    "\n",
    "if true\n",
    "    # if using Redis via docker\n",
    "    REDIS_HOST = \"localhost\"\n",
    "    REDIS_PORT = 55000\n",
    "    REDIS_PASSWORD = \"redispw\"\n",
    "else\n",
    "    REDIS_HOST = \"redis-19689.c281.us-east-1-2.ec2.cloud.redislabs.com\"\n",
    "    REDIS_PORT = 19689\n",
    "    REDIS_PASSWORD = \"\"\n",
    "end;"
   ]
  },
  {
   "cell_type": "code",
   "execution_count": 3,
   "metadata": {
    "execution": {
     "iopub.execute_input": "2024-02-09T00:06:42.718000-08:00",
     "iopub.status.busy": "2024-02-09T00:06:42.718000-08:00",
     "iopub.status.idle": "2024-02-09T00:06:42.751000-08:00",
     "shell.execute_reply": "2024-02-09T00:06:42.750000-08:00"
    },
    "tags": []
   },
   "outputs": [
    {
     "data": {
      "text/plain": [
       "service_ip_control (generic function with 1 method)"
      ]
     },
     "execution_count": 3,
     "metadata": {},
     "output_type": "execute_result"
    }
   ],
   "source": [
    "function service_ip_control(stream_name; timeout=10.0)\n",
    "    client = IMAS.Jedis.Client(host=REDIS_HOST, port=REDIS_PORT, password=REDIS_PASSWORD);\n",
    "    \n",
    "    controller = IMAS.controllers__linear_controller()\n",
    "    controller.name = \"ip\"\n",
    "    \n",
    "    while true\n",
    "        # pop inputs\n",
    "        inputs = IMAS.stream_pop!(client, \"$(stream_name)__fuse2ctrl\"; timeout, error_on_timeout=false)\n",
    "        if inputs === nothing\n",
    "            println(\"DONE $(stream_name)!\")\n",
    "            break\n",
    "        end\n",
    "        inputs = NamedTuple(inputs)\n",
    "\n",
    "        # initialize controller with given PID coefficients\n",
    "        if ismissing(controller.outputs, :data)\n",
    "            IMAS.pid_controller(controller, inputs.P, inputs.I, inputs.D)\n",
    "        end\n",
    "        # run controller\n",
    "        control = controller(inputs.setpoint, inputs.value, inputs.time)\n",
    "        \n",
    "        # push output\n",
    "        IMAS.stream_push!(client, \"$(stream_name)__ctrl2fuse\"; control)\n",
    "    end\n",
    "\n",
    "    IMAS.Jedis.disconnect!(client)\n",
    "end"
   ]
  },
  {
   "cell_type": "code",
   "execution_count": 4,
   "metadata": {
    "execution": {
     "iopub.execute_input": "2024-02-09T00:06:43.763000-08:00",
     "iopub.status.busy": "2024-02-09T00:06:43.762000-08:00",
     "iopub.status.idle": "2024-02-09T00:06:44.955000-08:00",
     "shell.execute_reply": "2024-02-09T00:06:44.955000-08:00"
    },
    "tags": []
   },
   "outputs": [],
   "source": [
    "# automated spawn\n",
    "subscription_client = IMAS.Jedis.Client(host=REDIS_HOST, port=REDIS_PORT, password=REDIS_PASSWORD);\n",
    "IMAS.stream_register_service(\"ip_control\", service_ip_control; client=subscription_client)"
   ]
  },
  {
   "cell_type": "code",
   "execution_count": 7,
   "metadata": {
    "execution": {
     "iopub.execute_input": "2024-02-08T22:17:31.540000-08:00",
     "iopub.status.busy": "2024-02-08T22:17:31.539000-08:00",
     "iopub.status.idle": "2024-02-08T22:17:55.178000-08:00",
     "shell.execute_reply": "2024-02-08T22:17:55.177000-08:00"
    },
    "tags": []
   },
   "outputs": [],
   "source": []
  },
  {
   "cell_type": "code",
   "execution_count": 7,
   "metadata": {
    "execution": {
     "iopub.execute_input": "2024-02-08T22:17:31.540000-08:00",
     "iopub.status.busy": "2024-02-08T22:17:31.539000-08:00",
     "iopub.status.idle": "2024-02-08T22:17:55.178000-08:00",
     "shell.execute_reply": "2024-02-08T22:17:55.177000-08:00"
    },
    "tags": []
   },
   "outputs": [],
   "source": []
  },
  {
   "cell_type": "code",
   "execution_count": 7,
   "metadata": {
    "execution": {
     "iopub.execute_input": "2024-02-08T22:17:31.540000-08:00",
     "iopub.status.busy": "2024-02-08T22:17:31.539000-08:00",
     "iopub.status.idle": "2024-02-08T22:17:55.178000-08:00",
     "shell.execute_reply": "2024-02-08T22:17:55.177000-08:00"
    },
    "tags": []
   },
   "outputs": [],
   "source": []
  },
  {
   "cell_type": "code",
   "execution_count": 3,
   "metadata": {
    "execution": {
     "iopub.execute_input": "2024-02-08T23:50:08.448000-08:00",
     "iopub.status.busy": "2024-02-08T23:50:08.448000-08:00",
     "iopub.status.idle": "2024-02-08T23:50:09.048000-08:00",
     "shell.execute_reply": "2024-02-08T23:50:09.048000-08:00"
    },
    "tags": []
   },
   "outputs": [
    {
     "name": "stdout",
     "output_type": "stream",
     "text": [
      "7593161592688213358__ip\n"
     ]
    }
   ],
   "source": [
    "# manual spawn\n",
    "subscription_client = IMAS.Jedis.Client(host=REDIS_HOST, port=REDIS_PORT, password=REDIS_PASSWORD);\n",
    "IMAS.stream_register_service(\"ip_control\", x->println(x); client=subscription_client)"
   ]
  },
  {
   "cell_type": "code",
   "execution_count": 7,
   "metadata": {
    "execution": {
     "iopub.execute_input": "2024-02-08T23:54:29.323000-08:00",
     "iopub.status.busy": "2024-02-08T23:54:29.322000-08:00",
     "iopub.status.idle": "2024-02-08T23:54:39.860000-08:00",
     "shell.execute_reply": "2024-02-08T23:54:39.859000-08:00"
    },
    "tags": []
   },
   "outputs": [
    {
     "name": "stdout",
     "output_type": "stream",
     "text": [
      "DONE!\n"
     ]
    }
   ],
   "source": [
    "service_ip_control(\"7593161592688213358__ip\")"
   ]
  },
  {
   "cell_type": "code",
   "execution_count": null,
   "metadata": {},
   "outputs": [],
   "source": []
  }
 ],
 "metadata": {
  "kernelspec": {
   "display_name": "Julia 1.10.0",
   "language": "julia",
   "name": "julia-1.10"
  },
  "language_info": {
   "file_extension": ".jl",
   "mimetype": "application/julia",
   "name": "julia",
   "version": "1.10.0"
  }
 },
 "nbformat": 4,
 "nbformat_minor": 4
}
