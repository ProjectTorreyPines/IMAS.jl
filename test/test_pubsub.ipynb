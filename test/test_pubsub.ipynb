{
 "cells": [
  {
   "cell_type": "code",
   "execution_count": 19,
   "metadata": {
    "execution": {
     "iopub.execute_input": "2024-02-08T11:58:33.825000-08:00",
     "iopub.status.busy": "2024-02-08T11:58:33.825000-08:00",
     "iopub.status.idle": "2024-02-08T11:58:33.848000-08:00",
     "shell.execute_reply": "2024-02-08T11:58:33.840000-08:00"
    },
    "tags": []
   },
   "outputs": [
    {
     "data": {
      "text/plain": [
       "\"8236122725091915643__ip\""
      ]
     },
     "execution_count": 19,
     "metadata": {},
     "output_type": "execute_result"
    }
   ],
   "source": [
    "identifier = 8236122725091915643\n",
    "\n",
    "import IMAS\n",
    "import IJulia\n",
    "\n",
    "REDIS_HOST = \"localhost\"\n",
    "REDIS_PORT = 55000\n",
    "REDIS_PASSWORD = \"redispw\"\n",
    "\n",
    "stream=\"$(identifier)__ip\""
   ]
  },
  {
   "cell_type": "code",
   "execution_count": 2,
   "metadata": {
    "execution": {
     "iopub.execute_input": "2024-02-08T11:37:09.275000-08:00",
     "iopub.status.busy": "2024-02-08T11:37:09.212000-08:00",
     "iopub.status.idle": "2024-02-08T11:37:10.734000-08:00",
     "shell.execute_reply": "2024-02-08T11:37:10.733000-08:00"
    },
    "tags": []
   },
   "outputs": [
    {
     "name": "stdout",
     "output_type": "stream",
     "text": [
      "client.subscriptions = Set([\"8236122725091915643__ip\"])\n"
     ]
    },
    {
     "data": {
      "text/plain": [
       "Any[]"
      ]
     },
     "execution_count": 2,
     "metadata": {},
     "output_type": "execute_result"
    }
   ],
   "source": [
    "subscription_client = IMAS.Jedis.Client(host=REDIS_HOST, port=REDIS_PORT, password=REDIS_PASSWORD);\n",
    "IMAS.stream_register_service(stream; client=subscription_client)"
   ]
  },
  {
   "cell_type": "code",
   "execution_count": 16,
   "metadata": {
    "execution": {
     "iopub.execute_input": "2024-02-08T11:55:18.127000-08:00",
     "iopub.status.busy": "2024-02-08T11:55:18.127000-08:00",
     "iopub.status.idle": "2024-02-08T11:55:18.255000-08:00",
     "shell.execute_reply": "2024-02-08T11:55:18.255000-08:00"
    },
    "tags": []
   },
   "outputs": [
    {
     "data": {
      "text/plain": [
       "Jedis.Client(\"localhost\", 55000, 0, \"redispw\", \"\", Sockets.TCPSocket(RawFD(57) paused, 0 bytes waiting), ReentrantLock(nothing, 0x00000000, 0x00, Base.GenericCondition{Base.Threads.SpinLock}(Base.IntrusiveLinkedList{Task}(nothing, nothing), Base.Threads.SpinLock(0)), (2, 4815085616, 141733920768)), nothing, false, Set{String}(), Set{String}(), true, 1, Jedis.var\"#13#15\"(), false, 60)"
      ]
     },
     "execution_count": 16,
     "metadata": {},
     "output_type": "execute_result"
    }
   ],
   "source": [
    "client = IMAS.Jedis.Client(host=REDIS_HOST, port=REDIS_PORT, password=REDIS_PASSWORD)"
   ]
  },
  {
   "cell_type": "code",
   "execution_count": 29,
   "metadata": {
    "execution": {
     "iopub.execute_input": "2024-02-08T12:14:07.050000-08:00",
     "iopub.status.busy": "2024-02-08T12:14:07.049000-08:00",
     "iopub.status.idle": "2024-02-08T12:14:29.812000-08:00",
     "shell.execute_reply": "2024-02-08T12:14:29.811000-08:00"
    },
    "tags": []
   },
   "outputs": [
    {
     "data": {
      "text/plain": [
       "30"
      ]
     },
     "metadata": {},
     "output_type": "display_data"
    },
    {
     "name": "stdout",
     "output_type": "stream",
     "text": [
      "DONE!\n"
     ]
    }
   ],
   "source": [
    "function run_controller(;kw...)\n",
    "    kw = NamedTuple(kw)\n",
    "    if ismissing(my_controller.outputs, :data)\n",
    "        IMAS.pid_controller(my_controller, kw.P, kw.I, kw.D)\n",
    "    end\n",
    "    return my_controller(kw.setpoint, kw.value, kw.time)\n",
    "end\n",
    "\n",
    "my_controller = IMAS.controllers__linear_controller()\n",
    "my_controller.name = \"ip\"\n",
    "\n",
    "k=0\n",
    "while true\n",
    "    IJulia.clear_output(true)\n",
    "    display(k)\n",
    "    inputs = IMAS.pop!(client, \"$(stream)__fuse2ctrl\"; timeout=10.0, error_on_timeout=false)\n",
    "    if inputs === nothing\n",
    "        println(\"DONE!\")\n",
    "        break\n",
    "    end\n",
    "    control = run_controller(; inputs...)\n",
    "    IMAS.push!(client, \"$(stream)__ctrl2fuse\"; control)\n",
    "    k+=1\n",
    "end"
   ]
  }
 ],
 "metadata": {
  "kernelspec": {
   "display_name": "Julia 1.10.0",
   "language": "julia",
   "name": "julia-1.10"
  },
  "language_info": {
   "file_extension": ".jl",
   "mimetype": "application/julia",
   "name": "julia",
   "version": "1.10.0"
  }
 },
 "nbformat": 4,
 "nbformat_minor": 4
}
