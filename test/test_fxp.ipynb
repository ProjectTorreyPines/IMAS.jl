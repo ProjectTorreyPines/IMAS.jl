{
 "cells": [
  {
   "cell_type": "code",
   "execution_count": null,
   "metadata": {
    "tags": []
   },
   "outputs": [],
   "source": [
    "import IMAS\n",
    "import FXP\n",
    "import IJulia\n",
    "\n",
    "if true\n",
    "    # if using Redis via docker\n",
    "    REDIS_HOST = \"localhost\"\n",
    "    REDIS_PORT = 55000\n",
    "    REDIS_PASSWORD = \"redispw\"\n",
    "else\n",
    "    REDIS_HOST = \"redis-19689.c281.us-east-1-2.ec2.cloud.redislabs.com\"\n",
    "    REDIS_PORT = 19689\n",
    "    REDIS_PASSWORD = \"\"\n",
    "end;"
   ]
  },
  {
   "cell_type": "code",
   "execution_count": null,
   "metadata": {
    "tags": []
   },
   "outputs": [],
   "source": [
    "function service_ip_control(session_id, service_name; timeout=10.0)\n",
    "    client = FXP.Client(host=REDIS_HOST, port=REDIS_PORT, password=REDIS_PASSWORD);\n",
    "    \n",
    "    controller = IMAS.controllers__linear_controller()\n",
    "    controller.name = \"ip\"\n",
    "    \n",
    "    while true\n",
    "        # pop inputs\n",
    "        inputs = FXP.pop!(client, session_id, service_name, :service; timeout, error_on_timeout=false)\n",
    "        if inputs === nothing\n",
    "            println(\"DONE: $(session_id) $(service_name)\")\n",
    "            break\n",
    "        end\n",
    "        inputs = NamedTuple(inputs)\n",
    "\n",
    "        # initialize controller with given PID coefficients\n",
    "        if ismissing(controller.outputs, :data)\n",
    "            IMAS.pid_controller(controller, inputs.P, inputs.I, inputs.D)\n",
    "        end\n",
    "        # run controller\n",
    "        control = controller(inputs.setpoint, inputs.value, inputs.time)\n",
    "        \n",
    "        # push output\n",
    "        FXP.push!(client, session_id, service_name, :service; control)\n",
    "    end\n",
    "\n",
    "    FXP.disconnect!(client)\n",
    "end"
   ]
  },
  {
   "cell_type": "code",
   "execution_count": null,
   "metadata": {
    "tags": []
   },
   "outputs": [],
   "source": [
    "# automated spawn\n",
    "subscription_client = FXP.Client(host=REDIS_HOST, port=REDIS_PORT, password=REDIS_PASSWORD);\n",
    "FXP.register_service(subscription_client, \"ip_control\", service_ip_control)"
   ]
  },
  {
   "cell_type": "code",
   "execution_count": null,
   "metadata": {
    "tags": []
   },
   "outputs": [],
   "source": []
  },
  {
   "cell_type": "code",
   "execution_count": null,
   "metadata": {
    "tags": []
   },
   "outputs": [],
   "source": []
  },
  {
   "cell_type": "code",
   "execution_count": null,
   "metadata": {
    "tags": []
   },
   "outputs": [],
   "source": []
  },
  {
   "cell_type": "code",
   "execution_count": null,
   "metadata": {
    "tags": []
   },
   "outputs": [],
   "source": [
    "# manual spawn\n",
    "subscription_client = IMAS.Jedis.Client(host=REDIS_HOST, port=REDIS_PORT, password=REDIS_PASSWORD);\n",
    "FXP.register_service(subscription_client, \"ip_control\", x->println(x))"
   ]
  },
  {
   "cell_type": "code",
   "execution_count": null,
   "metadata": {
    "tags": []
   },
   "outputs": [],
   "source": [
    "service_ip_control(\"8136311451093097212\", \"ip_control\")"
   ]
  }
 ],
 "metadata": {
  "kernelspec": {
   "display_name": "Julia 1.10.0",
   "language": "julia",
   "name": "julia-1.10"
  },
  "language_info": {
   "file_extension": ".jl",
   "mimetype": "application/julia",
   "name": "julia",
   "version": "1.10.0"
  }
 },
 "nbformat": 4,
 "nbformat_minor": 4
}
