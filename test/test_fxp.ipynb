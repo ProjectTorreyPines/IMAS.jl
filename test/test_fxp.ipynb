{
 "cells": [
  {
   "cell_type": "code",
   "execution_count": 2,
   "metadata": {
    "execution": {
     "iopub.execute_input": "2024-02-11T00:54:06.121000-08:00",
     "iopub.status.busy": "2024-02-11T00:54:06.032000-08:00",
     "iopub.status.idle": "2024-02-11T00:54:06.426000-08:00",
     "shell.execute_reply": "2024-02-11T00:54:06.426000-08:00"
    },
    "tags": []
   },
   "outputs": [],
   "source": [
    "import IMAS\n",
    "import FuseExchangeProtocol as FXP\n",
    "import IJulia\n",
    "\n",
    "if true\n",
    "    # if using Redis via docker\n",
    "    REDIS_HOST = \"localhost\"\n",
    "    REDIS_PORT = 55000\n",
    "    REDIS_PASSWORD = \"redispw\"\n",
    "else\n",
    "    REDIS_HOST = \"redis-19689.c281.us-east-1-2.ec2.cloud.redislabs.com\"\n",
    "    REDIS_PORT = 19689\n",
    "    REDIS_PASSWORD = \"\"\n",
    "end;"
   ]
  },
  {
   "cell_type": "code",
   "execution_count": 3,
   "metadata": {
    "execution": {
     "iopub.execute_input": "2024-02-11T00:54:07.844000-08:00",
     "iopub.status.busy": "2024-02-11T00:54:07.844000-08:00",
     "iopub.status.idle": "2024-02-11T00:54:08.060000-08:00",
     "shell.execute_reply": "2024-02-11T00:54:08.059000-08:00"
    },
    "tags": []
   },
   "outputs": [
    {
     "data": {
      "text/plain": [
       "service_ip_control (generic function with 1 method)"
      ]
     },
     "execution_count": 3,
     "metadata": {},
     "output_type": "execute_result"
    }
   ],
   "source": [
    "function service_ip_control(client::FXP.Client, session_id::String, service_name::String; timeout=10.0)\n",
    "    controller = IMAS.controllers__linear_controller()\n",
    "    controller.name = \"ip\"\n",
    "    \n",
    "    while true\n",
    "        # pop inputs\n",
    "        inputs = FXP.json_pop(client, session_id, service_name, :service; timeout, error_on_timeout=false)\n",
    "        if inputs === nothing\n",
    "            println(\"DONE: $(session_id) $(service_name)\")\n",
    "            break\n",
    "        end\n",
    "        inputs = NamedTuple(inputs)\n",
    "\n",
    "        # initialize controller with given PID coefficients\n",
    "        if ismissing(controller.outputs, :data)\n",
    "            IMAS.pid_controller(controller, inputs.P, inputs.I, inputs.D)\n",
    "        end\n",
    "        # run controller\n",
    "        control = controller(inputs.setpoint, inputs.value, inputs.time)\n",
    "        \n",
    "        # push output\n",
    "        FXP.json_push(client, session_id, service_name, :service; control)\n",
    "    end\n",
    "end"
   ]
  },
  {
   "cell_type": "code",
   "execution_count": 4,
   "metadata": {
    "execution": {
     "iopub.execute_input": "2024-02-11T00:54:14.239000-08:00",
     "iopub.status.busy": "2024-02-11T00:54:14.238000-08:00",
     "iopub.status.idle": "2024-02-11T00:54:15.839000-08:00",
     "shell.execute_reply": "2024-02-11T00:54:15.838000-08:00"
    },
    "tags": []
   },
   "outputs": [
    {
     "data": {
      "text/plain": [
       "Jedis.Client(\"localhost\", 55000, 0, \"redispw\", \"\", Sockets.TCPSocket(RawFD(55) active, 0 bytes waiting), ReentrantLock(nothing, 0x00000000, 0x00, Base.GenericCondition{Base.Threads.SpinLock}(Base.IntrusiveLinkedList{Task}(nothing, nothing), Base.Threads.SpinLock(0)), (2, 5926473904, 5945552272)), nothing, true, Set([\"ip_control\"]), Set{String}(), true, 1, Jedis.var\"#13#15\"(), false, 60)"
      ]
     },
     "execution_count": 4,
     "metadata": {},
     "output_type": "execute_result"
    },
    {
     "name": "stdout",
     "output_type": "stream",
     "text": [
      "AssertionError(\"whoami ∈ [:provider, :requestor]\")\n"
     ]
    }
   ],
   "source": [
    "# automated spawn\n",
    "subscription_client = FXP.Client(host=REDIS_HOST, port=REDIS_PORT, password=REDIS_PASSWORD);\n",
    "FXP.register_service(subscription_client, \"ip_control\", service_ip_control)"
   ]
  },
  {
   "cell_type": "code",
   "execution_count": 5,
   "metadata": {
    "execution": {
     "iopub.execute_input": "2024-02-10T20:38:32.604000-08:00",
     "iopub.status.busy": "2024-02-10T20:38:32.603000-08:00",
     "iopub.status.idle": "2024-02-10T20:38:33.180000-08:00",
     "shell.execute_reply": "2024-02-10T20:38:33.180000-08:00"
    },
    "tags": []
   },
   "outputs": [
    {
     "data": {
      "text/plain": [
       "(:host, :port, :database, :password, :username, :socket, :lock, :ssl_config, :is_subscribed, :subscriptions, :psubscriptions, :retry_when_closed, :retry_max_attempts, :retry_backoff, :keepalive_enable, :keepalive_delay)"
      ]
     },
     "execution_count": 5,
     "metadata": {},
     "output_type": "execute_result"
    }
   ],
   "source": [
    "fieldnames(typeof(subscription_client))"
   ]
  },
  {
   "cell_type": "code",
   "execution_count": null,
   "metadata": {
    "tags": []
   },
   "outputs": [],
   "source": []
  },
  {
   "cell_type": "code",
   "execution_count": null,
   "metadata": {
    "tags": []
   },
   "outputs": [],
   "source": []
  },
  {
   "cell_type": "code",
   "execution_count": null,
   "metadata": {
    "tags": []
   },
   "outputs": [],
   "source": [
    "# manual spawn\n",
    "subscription_client = IMAS.Jedis.Client(host=REDIS_HOST, port=REDIS_PORT, password=REDIS_PASSWORD);\n",
    "FXP.register_service(subscription_client, \"ip_control\", x->println(x))"
   ]
  },
  {
   "cell_type": "code",
   "execution_count": null,
   "metadata": {
    "tags": []
   },
   "outputs": [],
   "source": [
    "service_ip_control(\"8136311451093097212\", \"ip_control\")"
   ]
  }
 ],
 "metadata": {
  "kernelspec": {
   "display_name": "Julia 1.10.0",
   "language": "julia",
   "name": "julia-1.10"
  },
  "language_info": {
   "file_extension": ".jl",
   "mimetype": "application/julia",
   "name": "julia",
   "version": "1.10.0"
  }
 },
 "nbformat": 4,
 "nbformat_minor": 4
}
