{
 "cells": [
  {
   "cell_type": "code",
   "execution_count": null,
   "metadata": {
    "tags": []
   },
   "outputs": [],
   "source": [
    "import IMAS\n",
    "import FuseExchangeProtocol as FXP\n",
    "import IJulia\n",
    "\n",
    "if true\n",
    "    # if using Redis via docker\n",
    "    REDIS_HOST = \"localhost\"\n",
    "    REDIS_PORT = 55000\n",
    "    REDIS_PASSWORD = \"redispw\"\n",
    "else\n",
    "    REDIS_HOST = \"redis-19689.c281.us-east-1-2.ec2.cloud.redislabs.com\"\n",
    "    REDIS_PORT = 19689\n",
    "    REDIS_PASSWORD = \"\"\n",
    "end;\n",
    "\n",
    "subscription_client = FXP.Client(host=REDIS_HOST, port=REDIS_PORT, password=REDIS_PASSWORD);"
   ]
  },
  {
   "cell_type": "code",
   "execution_count": null,
   "metadata": {
    "tags": []
   },
   "outputs": [],
   "source": [
    "\"\"\"\n",
    "    service_ip_control(client::FXP.Client, session_id::String, service_name::String; timeout::Float64=10.0)\n",
    "\n",
    "Function for servicing loop voltage control to achieve a desired Ip\n",
    "\n",
    "After timeout of inactivity the service will be considered concluded and the session closed\n",
    "\"\"\"\n",
    "function service_ip_control(client::FXP.Client, session_id::String, service_name::String; timeout::Float64=10.0)\n",
    "    # define a IMAS PID controller\n",
    "    controller = IMAS.controllers__linear_controller()\n",
    "    controller.name = \"ip\"\n",
    "    \n",
    "    while true\n",
    "        # pop inputs\n",
    "        inputs = FXP.json_pop(client, session_id, service_name, :provider; timeout, error_on_timeout=false)\n",
    "        if inputs === nothing\n",
    "            @info(\"DONE: $(session_id) $(service_name)\")\n",
    "            break\n",
    "        end\n",
    "        inputs = NamedTuple(inputs)\n",
    "\n",
    "        # initialize controller with given PID coefficients\n",
    "        if ismissing(controller.outputs, :data)\n",
    "            IMAS.pid_controller(controller, inputs.P, inputs.I, inputs.D)\n",
    "        end\n",
    "\n",
    "        # run controller\n",
    "        control = controller(inputs.setpoint, inputs.value, inputs.time)\n",
    "        \n",
    "        # push output\n",
    "        FXP.json_push(client, session_id, service_name, :provider; control)\n",
    "    end\n",
    "end;"
   ]
  },
  {
   "cell_type": "code",
   "execution_count": null,
   "metadata": {
    "tags": []
   },
   "outputs": [],
   "source": [
    "# automated spawn\n",
    "subscription_client = FXP.register_service(subscription_client, \"ip_control\", service_ip_control);"
   ]
  },
  {
   "cell_type": "code",
   "execution_count": null,
   "metadata": {
    "tags": []
   },
   "outputs": [],
   "source": []
  },
  {
   "cell_type": "code",
   "execution_count": null,
   "metadata": {
    "tags": []
   },
   "outputs": [],
   "source": [
    "# manual spawn\n",
    "FXP.register_service(subscription_client, \"ip_control\", x->println(x))"
   ]
  },
  {
   "cell_type": "code",
   "execution_count": null,
   "metadata": {
    "tags": []
   },
   "outputs": [],
   "source": [
    "service_ip_control(\"8136311451093097212\", \"ip_control\")"
   ]
  }
 ],
 "metadata": {
  "kernelspec": {
   "display_name": "Julia 1.10.4",
   "language": "julia",
   "name": "julia-1.10"
  },
  "language_info": {
   "file_extension": ".jl",
   "mimetype": "application/julia",
   "name": "julia",
   "version": "1.10.4"
  }
 },
 "nbformat": 4,
 "nbformat_minor": 4
}
