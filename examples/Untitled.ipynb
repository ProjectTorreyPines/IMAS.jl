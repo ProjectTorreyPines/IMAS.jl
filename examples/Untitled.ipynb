{
 "cells": [
  {
   "cell_type": "code",
   "execution_count": 2,
   "id": "091a2f19-a24f-4c58-9631-913d3ba44326",
   "metadata": {},
   "outputs": [
    {
     "name": "stderr",
     "output_type": "stream",
     "text": [
      "\u001b[32m\u001b[1m  Activating\u001b[22m\u001b[39m environment at `~/.julia/dev/FUSE/Project.toml`\n"
     ]
    }
   ],
   "source": [
    "using Pkg\n",
    "Pkg.activate(\"..\")\n",
    "using Revise\n",
    "using FUSE;"
   ]
  },
  {
   "cell_type": "code",
   "execution_count": 3,
   "id": "8b343485-b2b7-41cb-8a55-857b871f5347",
   "metadata": {},
   "outputs": [],
   "source": [
    "using FUSE\n",
    "\n",
    "\n",
    "#= ============== =#\n",
    "# initialization #\n",
    "#= ============== =#\n",
    "\n",
    "PP = FUSE.fuse_parameters[:PLASMA_PARAMETERS]\n",
    "PM = FUSE.fuse_parameters[:PHYSICS_MODELS]\n",
    "\n",
    "core1D = FUSE.core_profiles__profiles_1d()\n",
    "\n",
    "n = 11\n",
    "\n",
    "core1D.grid.rho_tor_norm = range(0.0, 1.0, length=n)\n",
    "core1D.electrons.density = (rho_tor_norm;_...) -> PP[:ne0] .* (1.0 .- rho_tor_norm.^2).^PP[:Sn]\n",
    "core1D.electrons.temperature = (rho_tor_norm;_...) -> PP[:Te0] .* (1.0 .- rho_tor_norm.^2).^PP[:St]\n",
    "\n",
    "core1D.j_total = (x;_...) -> (1.0 .- x.^2).^PP[:Sj]\n",
    "\n",
    "equil = FUSE.equilibrium__time_slice()\n",
    "equil.profiles_1d.psi = range(0.0, 1.0, length=n)\n",
    "equil.profiles_1d.elongation = (psi;_...) -> psi .* 0.0 .+ PP[:elongation]\n",
    "equil.profiles_1d.geometric_axis.r = (psi;_...) -> psi .* 0.0 .+ PP[:R0]\n",
    "print(equil.profiles_1d.geometric_axis.z)\n",
    "\n",
    "bootstrapCoefficient = FUSE.collisionless_bootstrap(PM[:bootstrapModel], PP[:elongation], PP[:St], PP[:Sn], PP[:Sj], PP[:Zeff])\n",
    "println(bootstrapCoefficient)\n",
    "\n",
    "# maxStableElongation(aspectRatio) = 2.43 + 65.0 * exp(-aspectRatio / 0.376)\n",
    "\n",
    "# #elongation_fraction = elongation / maxStableElongation"
   ]
  },
  {
   "cell_type": "code",
   "execution_count": 17,
   "id": "a8779a22-e5f0-4bc8-960e-7efa69177212",
   "metadata": {},
   "outputs": [],
   "source": [
    "using Printf\n",
    "Base.show(io::IO, f::Float64) = @printf(io, \"%1.1f\", f)\n",
    "\n",
    "core1D = FUSE.core_profiles__profiles_1d()"
   ]
  },
  {
   "cell_type": "code",
   "execution_count": 36,
   "id": "244473ea-792b-4c4f-8e52-4565460f4ff7",
   "metadata": {},
   "outputs": [
    {
     "name": "stdout",
     "output_type": "stream",
     "text": [
      "[1602.2, 1408.2, 901.2, 306.7, 0.0]\n",
      "[3204.4, 2816.3, 1802.5, 613.3, 0.0]\n"
     ]
    }
   ],
   "source": [
    "core_profiles = FUSE.core_profiles()\n",
    "resize!(core_profiles.profiles_1d, 1)\n",
    "profiles_1d = core_profiles.profiles_1d[1]\n",
    "\n",
    "n = 5\n",
    "ne0 = 1e19\n",
    "Te0 = 1e3\n",
    "\n",
    "profiles_1d.grid.rho_tor_norm = range(0.0, 1.0, length=n)\n",
    "profiles_1d.electrons.density = ne0 .* (1.0 .- profiles_1d.grid.rho_tor_norm .^ 2)  # numerical array\n",
    "profiles_1d.electrons.temperature = (rho_tor_norm;_...) -> Te0 .* (1.0 .- rho_tor_norm .^ 2) # user defined function\n",
    "\n",
    "#profiles_1d.grid.rho_tor_norm = range(0.0, 1.0, length=11)\n",
    "#println(profiles_1d.electrons.density)\n",
    "\n",
    "println(profiles_1d.electrons.pressure) # expression from transformation library\n",
    "profiles_1d.electrons.temperature = profiles_1d.electrons.temperature .* 2\n",
    "println(profiles_1d.electrons.pressure) # expression from transformation library\n"
   ]
  },
  {
   "cell_type": "code",
   "execution_count": 20,
   "id": "ccb3d767-aea8-446c-ae44-c45ca087d304",
   "metadata": {},
   "outputs": [
    {
     "name": "stdout",
     "output_type": "stream",
     "text": [
      "[3204.4, 2816.3, 1802.5, 613.3, 0.0]\n"
     ]
    }
   ],
   "source": [
    "profiles_1d.electrons.density = 2.0 .* profiles_1d.electrons.density\n",
    "println(profiles_1d.electrons.pressure) # expression is updated based on new density value --> consistency"
   ]
  },
  {
   "cell_type": "code",
   "execution_count": 22,
   "id": "dd97a17b-1664-414e-9cba-136432683569",
   "metadata": {},
   "outputs": [
    {
     "name": "stdout",
     "output_type": "stream",
     "text": [
      "[12817.4, 11265.3, 7209.8, 2453.3, 0.0]\n"
     ]
    }
   ],
   "source": [
    "profiles_1d.electrons.temperature = 2.0 .* profiles_1d.electrons.temperature\n",
    "println(profiles_1d.electrons.pressure) # expression keeps being updated based on new density value --> consistency"
   ]
  },
  {
   "cell_type": "code",
   "execution_count": 29,
   "id": "b91e6f3e-4843-4f63-b363-0201e3026712",
   "metadata": {},
   "outputs": [],
   "source": [
    "filename = joinpath(dirname(dirname(abspath(@__FILE__))), \"sample\", \"sample_equilibrium_ods.json\")\n",
    "data  = FUSE.json2fuse(filename; verbose=false)\n",
    "time_slice = data.equilibrium.time_slice[1]\n",
    "pres0=time_slice.profiles_1d.pressure();"
   ]
  },
  {
   "cell_type": "code",
   "execution_count": 39,
   "id": "491737cd-dfc4-44e9-88cc-ed113c65f9b0",
   "metadata": {},
   "outputs": [],
   "source": [
    "\n",
    "\n",
    "function test_gradient(mul)\n",
    "    a = pres0 .* mul\n",
    "    print(typeof(a))\n",
    "    time_slice.profiles_1d.pressure = a\n",
    "    #time_slice.global_quantities.energy_mhd\n",
    "#    time_slice.global_quantities.energy_mhd\n",
    "    sum(time_slice.profiles_1d.pressure)\n",
    "    sum(a)\n",
    "end\n",
    "\n",
    "#test_gradient(2)\n",
    "\n",
    "Zygote.gradient(test_gradient, 1)"
   ]
  },
  {
   "cell_type": "code",
   "execution_count": 60,
   "id": "6465b30e-9499-454c-aece-6d9dd4cc0ac9",
   "metadata": {},
   "outputs": [
    {
     "name": "stderr",
     "output_type": "stream",
     "text": [
      "\u001b[32m\u001b[1m   Resolving\u001b[22m\u001b[39m package versions...\n",
      "\u001b[32m\u001b[1m  No Changes\u001b[22m\u001b[39m to `~/.julia/dev/FUSE/Project.toml`\n",
      "\u001b[32m\u001b[1m  No Changes\u001b[22m\u001b[39m to `~/.julia/dev/FUSE/Manifest.toml`\n"
     ]
    },
    {
     "ename": "LoadError",
     "evalue": "Compiling Tuple{typeof(Base.compile), Regex}: try/catch is not supported.",
     "output_type": "error",
     "traceback": [
      "Compiling Tuple{typeof(Base.compile), Regex}: try/catch is not supported.",
      "",
      "Stacktrace:",
      "  [1] error(s::String)",
      "    @ Base ./error.jl:33",
      "  [2] instrument(ir::IRTools.Inner.IR)",
      "    @ Zygote ~/.julia/packages/Zygote/nsu1Y/src/compiler/reverse.jl:121",
      "  [3] #Primal#20",
      "    @ ~/.julia/packages/Zygote/nsu1Y/src/compiler/reverse.jl:202 [inlined]",
      "  [4] Zygote.Adjoint(ir::IRTools.Inner.IR; varargs::Nothing, normalise::Bool)",
      "    @ Zygote ~/.julia/packages/Zygote/nsu1Y/src/compiler/reverse.jl:315",
      "  [5] _generate_pullback_via_decomposition(T::Type)",
      "    @ Zygote ~/.julia/packages/Zygote/nsu1Y/src/compiler/emit.jl:101",
      "  [6] #s3029#1208",
      "    @ ~/.julia/packages/Zygote/nsu1Y/src/compiler/interface2.jl:28 [inlined]",
      "  [7] var\"#s3029#1208\"(::Any, ctx::Any, f::Any, args::Any)",
      "    @ Zygote ./none:0",
      "  [8] (::Core.GeneratedFunctionStub)(::Any, ::Vararg{Any, N} where N)",
      "    @ Core ./boot.jl:571",
      "  [9] _pullback",
      "    @ ./regex.jl:486 [inlined]",
      " [10] _pullback(ctx::Zygote.Context, f::Type{Base.RegexAndMatchData}, args::Regex)",
      "    @ Zygote ~/.julia/packages/Zygote/nsu1Y/src/compiler/interface2.jl:0",
      " [11] _pullback",
      "    @ ./regex.jl:491 [inlined]",
      " [12] _pullback(ctx::Zygote.Context, f::typeof(Base._pat_replacer), args::Regex)",
      "    @ Zygote ~/.julia/packages/Zygote/nsu1Y/src/compiler/interface2.jl:0",
      " [13] _pullback",
      "    @ ./strings/util.jl:531 [inlined]",
      " [14] _pullback(::Zygote.Context, ::Base.var\"##replace#383\", ::Int64, ::typeof(replace), ::String, ::Pair{Regex, String})",
      "    @ Zygote ~/.julia/packages/Zygote/nsu1Y/src/compiler/interface2.jl:0",
      " [15] _pullback",
      "    @ ./strings/util.jl:525 [inlined]",
      " [16] _pullback(::Zygote.Context, ::typeof(replace), ::String, ::Pair{Regex, String})",
      "    @ Zygote ~/.julia/packages/Zygote/nsu1Y/src/compiler/interface2.jl:0",
      " [17] _pullback",
      "    @ ~/.julia/dev/FUSE/src/data.jl:224 [inlined]",
      " [18] _pullback(ctx::Zygote.Context, f::typeof(FUSE._f2u), args::String)",
      "    @ Zygote ~/.julia/packages/Zygote/nsu1Y/src/compiler/interface2.jl:0",
      " [19] _pullback",
      "    @ ~/.julia/dev/FUSE/src/data.jl:215 [inlined]",
      " [20] _pullback(ctx::Zygote.Context, f::typeof(FUSE._f2u), args::Symbol)",
      "    @ Zygote ~/.julia/packages/Zygote/nsu1Y/src/compiler/interface2.jl:0",
      " [21] _pullback",
      "    @ ~/.julia/dev/FUSE/src/data.jl:211 [inlined]",
      " [22] _pullback(ctx::Zygote.Context, f::typeof(FUSE._f2u), args::Type{FUSE.equilibrium__time_slice___profiles_1d})",
      "    @ Zygote ~/.julia/packages/Zygote/nsu1Y/src/compiler/interface2.jl:0",
      " [23] _pullback",
      "    @ ~/.julia/dev/FUSE/src/data.jl:199 [inlined]",
      " [24] _pullback(ctx::Zygote.Context, f::typeof(f2u), args::FUSE.equilibrium__time_slice___profiles_1d)",
      "    @ Zygote ~/.julia/packages/Zygote/nsu1Y/src/compiler/interface2.jl:0",
      " [25] _pullback",
      "    @ ~/.julia/dev/FUSE/src/data.jl:165 [inlined]",
      " [26] _pullback(::Zygote.Context, ::typeof(coordinates), ::FUSE.equilibrium__time_slice___profiles_1d, ::Symbol)",
      "    @ Zygote ~/.julia/packages/Zygote/nsu1Y/src/compiler/interface2.jl:0",
      " [27] _pullback",
      "    @ ~/.julia/dev/FUSE/src/functionarrays.jl:81 [inlined]",
      " [28] _pullback(::Zygote.Context, ::typeof(setproperty!), ::FUSE.equilibrium__time_slice___profiles_1d, ::Symbol, ::StepRangeLen{Float64, Base.TwicePrecision{Float64}, Base.TwicePrecision{Float64}})",
      "    @ Zygote ~/.julia/packages/Zygote/nsu1Y/src/compiler/interface2.jl:0",
      " [29] _pullback",
      "    @ ./In[60]:10 [inlined]",
      " [30] _pullback(ctx::Zygote.Context, f::typeof(test_gradient), args::Int64)",
      "    @ Zygote ~/.julia/packages/Zygote/nsu1Y/src/compiler/interface2.jl:0",
      " [31] _pullback(f::Function, args::Int64)",
      "    @ Zygote ~/.julia/packages/Zygote/nsu1Y/src/compiler/interface.jl:34",
      " [32] pullback(f::Function, args::Int64)",
      "    @ Zygote ~/.julia/packages/Zygote/nsu1Y/src/compiler/interface.jl:40",
      " [33] gradient(f::Function, args::Int64)",
      "    @ Zygote ~/.julia/packages/Zygote/nsu1Y/src/compiler/interface.jl:75",
      " [34] top-level scope",
      "    @ In[60]:17",
      " [35] eval",
      "    @ ./boot.jl:360 [inlined]",
      " [36] include_string(mapexpr::typeof(REPL.softscope), mod::Module, code::String, filename::String)",
      "    @ Base ./loading.jl:1094"
     ]
    }
   ],
   "source": [
    "profiles_1d = FUSE.equilibrium__time_slice___profiles_1d()\n",
    "\n",
    "Pkg.add(\"Zygote\")\n",
    "using Zygote\n",
    "\n",
    "profiles_1d.psi = range(0.0, 1.0, length=5)\n",
    "\n",
    "function test_gradient(mul)\n",
    "    a = profiles_1d.psi .* mul\n",
    "    profiles_1d.psi = a * mul\n",
    "#    sum(a)\n",
    "    sum(profiles_1d.psi)\n",
    "end\n",
    "\n",
    "# #test_gradient(2)\n",
    "\n",
    "Zygote.gradient(test_gradient, 1)"
   ]
  }
 ],
 "metadata": {
  "kernelspec": {
   "display_name": "Julia 1.6.0",
   "language": "julia",
   "name": "julia-1.6"
  },
  "language_info": {
   "file_extension": ".jl",
   "mimetype": "application/julia",
   "name": "julia",
   "version": "1.6.0"
  }
 },
 "nbformat": 4,
 "nbformat_minor": 5
}
