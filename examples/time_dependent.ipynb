{
 "cells": [
  {
   "cell_type": "code",
   "execution_count": 9,
   "id": "ddb95158-c1fa-4067-a487-1fef0f5f3330",
   "metadata": {},
   "outputs": [
    {
     "name": "stdout",
     "output_type": "stream",
     "text": [
      "2\n",
      "2\n"
     ]
    },
    {
     "name": "stderr",
     "output_type": "stream",
     "text": [
      "\u001b[32m\u001b[1m  Activating\u001b[22m\u001b[39m project at `~/Coding/julia/IMAS`\n"
     ]
    }
   ],
   "source": [
    "using Pkg\n",
    "Pkg.activate(\"..\")\n",
    "using Revise\n",
    "using IMAS\n",
    "\n",
    "dd=IMAS.dd()\n",
    "\n",
    "dd.global_time = 1010.0\n",
    "resize!(dd.equilibrium.time_slice)\n",
    "dd.equilibrium.time_slice[].global_quantities.ip=1\n",
    "\n",
    "dd.global_time = 2010.0\n",
    "dd.equilibrium.time_slice[].global_quantities.ip=2\n",
    "\n",
    "println(dd.equilibrium.time_slice[].global_quantities.ip)\n",
    "println(dd.equilibrium.time_slice[3000.0].global_quantities.ip)"
   ]
  },
  {
   "cell_type": "code",
   "execution_count": 11,
   "id": "1b858903-d93f-475f-af91-4cd408120407",
   "metadata": {},
   "outputs": [
    {
     "name": "stdout",
     "output_type": "stream",
     "text": [
      "[1.0, 2.0]\n",
      "[1010.0, 2010.0]\n"
     ]
    }
   ],
   "source": [
    "dd=IMAS.dd()\n",
    "\n",
    "dd.global_time = 1010.0\n",
    "@timedep dd.equilibrium.vacuum_toroidal_field.b0=1.0\n",
    "@timedep dd.equilibrium.vacuum_toroidal_field.b0\n",
    "\n",
    "dd.global_time = 2010.0\n",
    "@timedep(dd.equilibrium.vacuum_toroidal_field.b0=2.0)\n",
    "\n",
    "dd.global_time = 2020.0\n",
    "@timedep(dd.equilibrium.vacuum_toroidal_field.b0)\n",
    "\n",
    "println(dd.equilibrium.vacuum_toroidal_field.b0)\n",
    "println(dd.equilibrium.time)"
   ]
  }
 ],
 "metadata": {
  "kernelspec": {
   "display_name": "Julia (4 threads) 1.7.1",
   "language": "julia",
   "name": "julia-(4-threads)-1.7"
  },
  "language_info": {
   "file_extension": ".jl",
   "mimetype": "application/julia",
   "name": "julia",
   "version": "1.7.1"
  }
 },
 "nbformat": 4,
 "nbformat_minor": 5
}
