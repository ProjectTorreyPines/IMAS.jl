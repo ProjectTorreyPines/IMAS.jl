{
 "cells": [
  {
   "cell_type": "code",
   "execution_count": 1,
   "id": "ddb95158-c1fa-4067-a487-1fef0f5f3330",
   "metadata": {},
   "outputs": [
    {
     "name": "stdout",
     "output_type": "stream",
     "text": [
      " 11.841067 seconds (11.01 M allocations: 743.879 MiB, 2.45% gc time, 8.77% compilation time)\n",
      "  0.066424 seconds (21.27 k allocations: 1.200 MiB, 6.94% compilation time)\n",
      "1\n",
      "1\n"
     ]
    },
    {
     "name": "stderr",
     "output_type": "stream",
     "text": [
      "\u001b[32m\u001b[1m  Activating\u001b[22m\u001b[39m project at `~/Coding/julia/IMAS`\n",
      "┌ Info: Precompiling IMAS [13ead8c1-b7d1-41bb-a6d0-5b8b65ed587a]\n",
      "└ @ Base loading.jl:1423\n"
     ]
    }
   ],
   "source": [
    "using Pkg\n",
    "Pkg.activate(\"..\")\n",
    "using Revise\n",
    "@time using IMAS\n",
    "using Test\n",
    "\n",
    "@time dd=IMAS.dd()\n",
    "\n",
    "dd.global_time = 1010.0\n",
    "resize!(dd.equilibrium.time_slice)\n",
    "dd.equilibrium.time_slice[1010.0].global_quantities.ip=1\n",
    "println(dd.equilibrium.time_slice[1010.0].global_quantities.ip)\n",
    "\n",
    "\n",
    "# dd.core_profiles.profiles_1d[1010.0].electrons.density=[1,2,3]\n",
    "# dd.core_profiles.profiles_1d[2010.0].electrons.density\n",
    "\n",
    "dd.equilibrium.time_slice[].global_quantities.ip=1\n",
    "println(dd.equilibrium.time_slice[].global_quantities.ip)\n",
    "\n",
    "#dd.equilibrium.global_quantities.time=[0.1,0.2]\n",
    "#dd.equilibrium.global_quantities.ip=[1,2,3]\n",
    "\n",
    "#@timedep dd.equilibrium.global_quantities.ip --> value\n"
   ]
  },
  {
   "cell_type": "code",
   "execution_count": 109,
   "id": "f733ae1a-7854-45ff-bbb3-49e180abced2",
   "metadata": {},
   "outputs": [
    {
     "name": "stdout",
     "output_type": "stream",
     "text": [
      "\u001b[0m\u001b[1mTest Summary: | \u001b[22m\u001b[32m\u001b[1mPass  \u001b[22m\u001b[39m\u001b[36m\u001b[1mTotal\u001b[22m\u001b[39m\n",
      "time          | \u001b[32m  19  \u001b[39m\u001b[36m   19\u001b[39m\n"
     ]
    },
    {
     "name": "stderr",
     "output_type": "stream",
     "text": [
      "\u001b[32m\u001b[1m  Activating\u001b[22m\u001b[39m project at `~/Coding/julia/IMAS`\n"
     ]
    },
    {
     "data": {
      "text/plain": [
       "Test.DefaultTestSet(\"time\", Any[], 19, false, false)"
      ]
     },
     "execution_count": 109,
     "metadata": {},
     "output_type": "execute_result"
    }
   ],
   "source": [
    "@testset \"time\" begin\n",
    "\n",
    "    eqt=resize!(dd.equilibrium.time_slice)[end]\n",
    "    eqt.global_quantities.ip=1010.0\n",
    "    @test dd.equilibrium.time_slice[1010.0].global_quantities.ip===eqt.global_quantities.ip\n",
    "    @test dd.equilibrium.time_slice[2000.0].global_quantities.ip===eqt.global_quantities.ip\n",
    "    @test dd.equilibrium.time_slice[1000.0].global_quantities.ip===eqt.global_quantities.ip\n",
    "    @test dd.equilibrium.time_slice[10000.0].global_quantities.ip===eqt.global_quantities.ip\n",
    "    @test dd.equilibrium.time_slice[1].global_quantities.ip===eqt.global_quantities.ip\n",
    "    @test_throws Exception dd.equilibrium.time_slice[2].global_quantities.ip\n",
    "    @test dd.equilibrium.time_slice[].global_quantities.ip===eqt.global_quantities.ip\n",
    "\n",
    "    dd.global_time = 2020.0\n",
    "    eqt=resize!(dd.equilibrium.time_slice)[end]\n",
    "    dd.equilibrium.time_slice[].global_quantities.ip=2020.0\n",
    "    @test dd.equilibrium.time_slice[2020.0].global_quantities.ip===eqt.global_quantities.ip\n",
    "    @test dd.equilibrium.time_slice[2000.0].global_quantities.ip===eqt.global_quantities.ip\n",
    "    @test dd.equilibrium.time_slice[1000.0].global_quantities.ip!==eqt.global_quantities.ip\n",
    "    @test dd.equilibrium.time_slice[10000.0].global_quantities.ip===eqt.global_quantities.ip\n",
    "    @test dd.equilibrium.time_slice[2].global_quantities.ip===eqt.global_quantities.ip\n",
    "    @test dd.equilibrium.time_slice[].global_quantities.ip===eqt.global_quantities.ip\n",
    "\n",
    "    dd.global_time = 3030.0\n",
    "    eqt=resize!(dd.equilibrium.time_slice, IMAS.τ)[end]\n",
    "    dd.equilibrium.time_slice[].global_quantities.ip=3030.0\n",
    "    @test dd.equilibrium.time_slice[3030.0].global_quantities.ip===eqt.global_quantities.ip\n",
    "    @test dd.equilibrium.time_slice[3000.0].global_quantities.ip===eqt.global_quantities.ip\n",
    "    @test dd.equilibrium.time_slice[1000.0].global_quantities.ip!==eqt.global_quantities.ip\n",
    "    @test dd.equilibrium.time_slice[10000.0].global_quantities.ip===eqt.global_quantities.ip\n",
    "    @test dd.equilibrium.time_slice[3].global_quantities.ip===eqt.global_quantities.ip\n",
    "    @test dd.equilibrium.time_slice[].global_quantities.ip===eqt.global_quantities.ip\n",
    "end"
   ]
  },
  {
   "cell_type": "code",
   "execution_count": 179,
   "id": "1b858903-d93f-475f-af91-4cd408120407",
   "metadata": {},
   "outputs": [
    {
     "name": "stderr",
     "output_type": "stream",
     "text": [
      "\u001b[32m\u001b[1m  Activating\u001b[22m\u001b[39m project at `~/Coding/julia/IMAS`\n"
     ]
    },
    {
     "data": {
      "text/plain": [
       "Float64"
      ]
     },
     "execution_count": 179,
     "metadata": {},
     "output_type": "execute_result"
    }
   ],
   "source": [
    "using Pkg\n",
    "Pkg.activate(\"..\")\n",
    "using Revise\n",
    "import IMAS\n",
    "import IMAS:@timedep\n",
    "\n",
    "import IMAS:time_array, GlobalTime, global_time\n",
    "\n",
    "function Base.getindex(x::AbstractVector{T}, time0::GlobalTime) where T <: Real\n",
    "    error(\"not good\")\n",
    "end\n",
    "\n",
    "dd=IMAS.dd()\n",
    "dd.global_time = 1010.0\n",
    "@timedep dd.equilibrium.vacuum_toroidal_field.b0=1.0\n",
    "@timedep dd.equilibrium.vacuum_toroidal_field.b0\n",
    "\n",
    "dd.global_time = 2010.0\n",
    "@timedep(dd.equilibrium.vacuum_toroidal_field.b0=2.0)\n",
    "\n",
    "dd.global_time = 2020.0\n",
    "a=@timedep(dd.equilibrium.vacuum_toroidal_field.b0)\n",
    "\n",
    "typeof(a)"
   ]
  },
  {
   "cell_type": "code",
   "execution_count": 173,
   "id": "b2357800-dc76-4197-b409-cdd92a738e2b",
   "metadata": {},
   "outputs": [],
   "source": [
    "using MacroTools\n",
    "@edit @time a=1"
   ]
  }
 ],
 "metadata": {
  "kernelspec": {
   "display_name": "Julia (4 threads) 1.7.1",
   "language": "julia",
   "name": "julia-(4-threads)-1.7"
  },
  "language_info": {
   "file_extension": ".jl",
   "mimetype": "application/julia",
   "name": "julia",
   "version": "1.7.1"
  }
 },
 "nbformat": 4,
 "nbformat_minor": 5
}
