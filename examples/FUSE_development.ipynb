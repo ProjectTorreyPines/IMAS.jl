{
 "cells": [
  {
   "cell_type": "code",
   "execution_count": 2,
   "id": "6c506881",
   "metadata": {},
   "outputs": [
    {
     "name": "stderr",
     "output_type": "stream",
     "text": [
      "\u001b[32m\u001b[1m  Activating\u001b[22m\u001b[39m environment at `~/.julia/dev/FUSE/Project.toml`\n"
     ]
    }
   ],
   "source": [
    "using Pkg\n",
    "Pkg.activate(\"..\")\n",
    "using Revise\n",
    "using FUSE"
   ]
  },
  {
   "cell_type": "code",
   "execution_count": 7,
   "id": "28529af5",
   "metadata": {},
   "outputs": [
    {
     "name": "stdout",
     "output_type": "stream",
     "text": [
      "FUSE.var\"#7#9\"\n",
      "FUSE.AbstractFDArray{Float64, 1}\n",
      "A\n",
      "FUSE.var\"#1#3\"\n",
      "FUSE.AbstractFDArray{Float64, 1}\n",
      "A\n",
      "FUSE.var\"#4#6\"\n",
      "FUSE.AbstractFDArray{Float64, 1}\n",
      "A\n",
      "StepRangeLen{Float64, Base.TwicePrecision{Float64}, Base.TwicePrecision{Float64}}\n",
      "FUSE.AbstractFDArray{Float64, 1}\n",
      "C\n",
      "Vector{Float64}\n",
      "FUSE.AbstractFDArray{Float64, 1}\n",
      "C\n",
      "var\"#1#3\"\n",
      "FUSE.AbstractFDArray{Float64, 1}\n",
      "A\n",
      "[1.60218e-19, 1.594179113625e-19, 1.570296618e-19, 1.5308930036250002e-19, 1.476569088e-19, 1.408166015625e-19, 1.326765258e-19, 1.2336886136250001e-19, 1.1304982079999998e-19, 1.018996493625e-19, 9.0122625e-20, 7.79470583625e-20, 6.56252928e-20, 5.343370436249998e-20, 4.16727018e-20, 3.06667265625e-20, 2.0764252799999985e-20, 1.2337787362500006e-20, 5.783869799999997e-21, 1.5230723625000009e-21, 0.0]\n",
      "StepRangeLen{Float64, Base.TwicePrecision{Float64}, Base.TwicePrecision{Float64}}\n",
      "FUSE.AbstractFDArray{Float64, 1}\n",
      "C\n",
      "[1.0, 0.9375, 0.75, 0.4375, 0.0]\n"
     ]
    }
   ],
   "source": [
    "core_profiles = FUSE.core_profiles();\n",
    "resize!(core_profiles.profiles_1d,1)\n",
    "profiles_1d = core_profiles.profiles_1d[1]\n",
    "\n",
    "profiles_1d.grid.rho_tor_norm = range(0.0, 1.0, length=21)\n",
    "profiles_1d.electrons.density = (1.0 .- profiles_1d.grid.rho_tor_norm.^2);\n",
    "profiles_1d.electrons.temperature = (x;_...) -> (1.0 .- x.^2);\n",
    "\n",
    "println(profiles_1d.electrons.pressure)\n",
    "profiles_1d.grid.rho_tor_norm = range(0.0, 1.0, length=5)\n",
    "println(profiles_1d.electrons.temperature)\n"
   ]
  },
  {
   "cell_type": "code",
   "execution_count": 2,
   "id": "c27c8f5f",
   "metadata": {},
   "outputs": [
    {
     "data": {
      "text/plain": [
       "(5, 5)"
      ]
     },
     "execution_count": 2,
     "metadata": {},
     "output_type": "execute_result"
    }
   ],
   "source": [
    "abstract type AbstractFDNumber <: Number end\n",
    "\n",
    "struct FDNumber <: AbstractFDNumber\n",
    "    func_or_value::Any\n",
    "    _parent::WeakRef\n",
    "    _field::Symbol\n",
    "    _raw::Bool\n",
    "end\n",
    "\n",
    "function FDNumber(func_or_value)\n",
    "    return FDNumber(func_or_value, WeakRef(nothing), :x, true)\n",
    "end\n",
    "    \n",
    "function coordinates(fdv::AbstractFDNumber)\n",
    "    return []\n",
    "end\n",
    "\n",
    "Base.convert(::Type{Number}, x::FDNumber) = x.func_or_value\n",
    "Base.promote_rule(::Type{FDNumber}, ::Type{Number} ) = Number\n",
    "\n",
    "\n",
    "promote(FDNumber(5),5)\n",
    "\n"
   ]
  },
  {
   "cell_type": "code",
   "execution_count": 29,
   "id": "e4d58955",
   "metadata": {},
   "outputs": [
    {
     "ename": "LoadError",
     "evalue": "BoundsError: attempt to access 0-element Vector{Array{Float64, 0}} at index []",
     "output_type": "error",
     "traceback": [
      "BoundsError: attempt to access 0-element Vector{Array{Float64, 0}} at index []",
      "",
      "Stacktrace:",
      " [1] throw_boundserror(A::Vector{Array{Float64, 0}}, I::Tuple{})",
      "   @ Base ./abstractarray.jl:651",
      " [2] checkbounds",
      "   @ ./abstractarray.jl:616 [inlined]",
      " [3] _setindex!",
      "   @ ./abstractarray.jl:1289 [inlined]",
      " [4] setindex!(::Vector{Array{Float64, 0}}, ::Int64)",
      "   @ Base ./abstractarray.jl:1267",
      " [5] top-level scope",
      "   @ In[29]:2",
      " [6] eval",
      "   @ ./boot.jl:360 [inlined]",
      " [7] include_string(mapexpr::typeof(REPL.softscope), mod::Module, code::String, filename::String)",
      "   @ Base ./loading.jl:1094"
     ]
    }
   ],
   "source": [
    "a=Array{Float64,0}[]\n",
    "a[]=5"
   ]
  },
  {
   "cell_type": "code",
   "execution_count": null,
   "id": "fc42c219",
   "metadata": {},
   "outputs": [],
   "source": []
  },
  {
   "cell_type": "code",
   "execution_count": null,
   "id": "d5d22a67",
   "metadata": {},
   "outputs": [],
   "source": []
  },
  {
   "cell_type": "code",
   "execution_count": null,
   "id": "a9be6589",
   "metadata": {},
   "outputs": [],
   "source": []
  },
  {
   "cell_type": "code",
   "execution_count": null,
   "id": "6b564cd9",
   "metadata": {},
   "outputs": [],
   "source": []
  },
  {
   "cell_type": "code",
   "execution_count": null,
   "id": "89a2fcad",
   "metadata": {},
   "outputs": [],
   "source": []
  },
  {
   "cell_type": "code",
   "execution_count": null,
   "id": "4bbaf62c",
   "metadata": {},
   "outputs": [],
   "source": []
  },
  {
   "cell_type": "code",
   "execution_count": null,
   "id": "c2cacc97",
   "metadata": {},
   "outputs": [],
   "source": []
  },
  {
   "cell_type": "code",
   "execution_count": null,
   "id": "680b0a7a",
   "metadata": {},
   "outputs": [],
   "source": []
  },
  {
   "cell_type": "code",
   "execution_count": null,
   "id": "c15e4047",
   "metadata": {},
   "outputs": [],
   "source": []
  },
  {
   "cell_type": "code",
   "execution_count": null,
   "id": "9cb53048",
   "metadata": {},
   "outputs": [],
   "source": []
  },
  {
   "cell_type": "code",
   "execution_count": null,
   "id": "5298cb07",
   "metadata": {},
   "outputs": [],
   "source": []
  },
  {
   "cell_type": "code",
   "execution_count": null,
   "id": "6a742e3c",
   "metadata": {},
   "outputs": [],
   "source": []
  },
  {
   "cell_type": "code",
   "execution_count": null,
   "id": "aace0232",
   "metadata": {},
   "outputs": [],
   "source": []
  },
  {
   "cell_type": "code",
   "execution_count": null,
   "id": "156da467-3d22-487f-8a9a-9f2656ecc44b",
   "metadata": {},
   "outputs": [],
   "source": []
  },
  {
   "cell_type": "code",
   "execution_count": null,
   "id": "96e744af-97ea-41db-82a0-47f76ff08db8",
   "metadata": {},
   "outputs": [],
   "source": []
  }
 ],
 "metadata": {
  "kernelspec": {
   "display_name": "Julia 1.6.0",
   "language": "julia",
   "name": "julia-1.6"
  },
  "language_info": {
   "file_extension": ".jl",
   "mimetype": "application/julia",
   "name": "julia",
   "version": "1.6.0"
  }
 },
 "nbformat": 4,
 "nbformat_minor": 5
}
