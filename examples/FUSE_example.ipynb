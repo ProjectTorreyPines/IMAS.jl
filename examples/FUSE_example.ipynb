{
 "cells": [
  {
   "cell_type": "code",
   "execution_count": null,
   "id": "3282a608-845c-41c6-9a76-728bd82f64a1",
   "metadata": {},
   "outputs": [
    {
     "name": "stderr",
     "output_type": "stream",
     "text": [
      "\u001b[32m\u001b[1m  Activating\u001b[22m\u001b[39m environment at `~/.julia/dev/FUSE/Project.toml`\n",
      "┌ Info: Precompiling FUSE [e64856f0-3bb8-4376-b4b7-c03396503992]\n",
      "└ @ Base loading.jl:1317\n",
      "\u001b[32mProgress: 100%|███████████████████████████| Time: 0:00:00 ( 1.00 ms/it)\u001b[39m\u001b[K\n",
      "\u001b[32mProgress: 100%|███████████████████████████| Time: 0:00:00 ( 5.18 ms/it)\u001b[39m\u001b[K\n"
     ]
    }
   ],
   "source": [
    "using Pkg\n",
    "Pkg.activate(\"..\")\n",
    "using Revise\n",
    "using FUSE"
   ]
  },
  {
   "cell_type": "code",
   "execution_count": 2,
   "id": "ec1e6fa0-9d2a-4c36-a4fc-c8b89bc7460b",
   "metadata": {},
   "outputs": [
    {
     "ename": "LoadError",
     "evalue": "type dd has no field core_profiles",
     "output_type": "error",
     "traceback": [
      "type dd has no field core_profiles",
      "",
      "Stacktrace:",
      " [1] getproperty(x::FUSE.dd, f::Symbol)",
      "   @ Base ./Base.jl:33",
      " [2] top-level scope",
      "   @ In[2]:3",
      " [3] eval",
      "   @ ./boot.jl:360 [inlined]",
      " [4] include_string(mapexpr::typeof(REPL.softscope), mod::Module, code::String, filename::String)",
      "   @ Base ./loading.jl:1094"
     ]
    }
   ],
   "source": [
    "data=FUSE.dd();\n",
    "\n",
    "data.core_profiles.profiles_1d[1].grid.rho_tor_norm=range(0,1,length=10)\n",
    "data.core_profiles.profiles_1d[1].electrons.density=(1.0.-data.core_profiles.profiles_1d[1].grid.rho_tor_norm).^2"
   ]
  },
  {
   "cell_type": "code",
   "execution_count": 6,
   "id": "5810f4ac-ecc4-435c-b70a-8aca362cbd26",
   "metadata": {},
   "outputs": [
    {
     "ename": "LoadError",
     "evalue": "MethodError: no method matching test3(::Int64)\n\u001b[0mClosest candidates are:\n\u001b[0m  test3() at In[6]:2",
     "output_type": "error",
     "traceback": [
      "MethodError: no method matching test3(::Int64)\n\u001b[0mClosest candidates are:\n\u001b[0m  test3() at In[6]:2",
      "",
      "Stacktrace:",
      " [1] top-level scope",
      "   @ In[6]:4",
      " [2] eval",
      "   @ ./boot.jl:360 [inlined]",
      " [3] include_string(mapexpr::typeof(REPL.softscope), mod::Module, code::String, filename::String)",
      "   @ Base ./loading.jl:1094"
     ]
    }
   ],
   "source": [
    "struct test3\n",
    "    :local\n",
    "end\n",
    "test_=test3(0)\n",
    "test_.loc"
   ]
  },
  {
   "cell_type": "code",
   "execution_count": 5,
   "id": "2e0db77d-f9cf-44d5-bb39-4b8618267fe3",
   "metadata": {},
   "outputs": [
    {
     "data": {
      "text/plain": [
       "String"
      ]
     },
     "execution_count": 5,
     "metadata": {},
     "output_type": "execute_result"
    }
   ],
   "source": [
    "typeof(String(split(\"a.b\", \".\")[1]))"
   ]
  },
  {
   "cell_type": "code",
   "execution_count": null,
   "id": "b33f77aa-70a4-46f9-97fe-d2eade743f8b",
   "metadata": {},
   "outputs": [],
   "source": []
  }
 ],
 "metadata": {
  "kernelspec": {
   "display_name": "Julia 1.6.0",
   "language": "julia",
   "name": "julia-1.6"
  },
  "language_info": {
   "file_extension": ".jl",
   "mimetype": "application/julia",
   "name": "julia",
   "version": "1.6.0"
  }
 },
 "nbformat": 4,
 "nbformat_minor": 5
}
