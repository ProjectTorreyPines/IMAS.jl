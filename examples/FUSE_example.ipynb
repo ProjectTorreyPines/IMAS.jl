{
 "cells": [
  {
   "cell_type": "code",
   "execution_count": 1,
   "id": "3282a608-845c-41c6-9a76-728bd82f64a1",
   "metadata": {},
   "outputs": [
    {
     "name": "stderr",
     "output_type": "stream",
     "text": [
      "\u001b[32m\u001b[1m  Activating\u001b[22m\u001b[39m environment at `~/.julia/dev/FUSE/Project.toml`\n",
      "┌ Info: Precompiling FUSE [e64856f0-3bb8-4376-b4b7-c03396503992]\n",
      "└ @ Base loading.jl:1317\n",
      "\u001b[32mCompile IMAS structs100%|█████████████████| Time: 0:00:01 ( 0.13  s/it)\u001b[39m\u001b[K\n"
     ]
    }
   ],
   "source": [
    "using Pkg\n",
    "Pkg.activate(\"..\")\n",
    "using Revise\n",
    "using FUSE"
   ]
  },
  {
   "cell_type": "code",
   "execution_count": 3,
   "id": "ec1e6fa0-9d2a-4c36-a4fc-c8b89bc7460b",
   "metadata": {},
   "outputs": [
    {
     "data": {
      "text/plain": [
       "10-element Vector{Float64}:\n",
       " 1.0\n",
       " 0.7901234567901234\n",
       " 0.6049382716049383\n",
       " 0.44444444444444453\n",
       " 0.308641975308642\n",
       " 0.19753086419753085\n",
       " 0.11111111111111113\n",
       " 0.04938271604938271\n",
       " 0.01234567901234569\n",
       " 0.0"
      ]
     },
     "execution_count": 3,
     "metadata": {},
     "output_type": "execute_result"
    }
   ],
   "source": [
    "data=FUSE.dd();\n",
    "\n",
    "data.core_profiles.profiles_1d[1].grid.rho_tor_norm=range(0,1,length=10)\n",
    "data.core_profiles.profiles_1d[1].electrons.density=(1.0.-data.core_profiles.profiles_1d[1].grid.rho_tor_norm).^2"
   ]
  },
  {
   "cell_type": "code",
   "execution_count": 6,
   "id": "12e149f1-1fc5-43b9-81aa-13246811acd8",
   "metadata": {},
   "outputs": [],
   "source": [
    "struct test3\n",
    "    :local\n",
    "end\n",
    "test_=test3(0)\n",
    "test_.loc"
   ]
  },
  {
   "cell_type": "code",
   "execution_count": 2,
   "id": "5def3678-6333-4b2b-bbe0-f6caca5bd784",
   "metadata": {},
   "outputs": [
    {
     "name": "stdout",
     "output_type": "stream",
     "text": [
      "{\n",
      "    \"b\": [\n",
      "        {\n",
      "            \"c\": [\n",
      "                {\n",
      "                    \"d\": [\n",
      "                        1.0,\n",
      "                        2.0,\n",
      "                        3.0\n",
      "                    ]\n",
      "                }\n",
      "            ]\n",
      "        },\n",
      "        {\n",
      "            \"c\": [\n",
      "                {\n",
      "                    \"d\": [\n",
      "                        1.0,\n",
      "                        2.0,\n",
      "                        3.0\n",
      "                    ]\n",
      "                }\n",
      "            ]\n",
      "        },\n",
      "        {\n",
      "            \"c\": [\n",
      "                {\n",
      "                    \"d\": [\n",
      "                        1.0,\n",
      "                        2.0,\n",
      "                        3.0\n",
      "                    ]\n",
      "                }\n",
      "            ]\n",
      "        },\n",
      "        {\n",
      "            \"c\": [\n",
      "                {\n",
      "                    \"d\": [\n",
      "                        1.0,\n",
      "                        2.0,\n",
      "                        3.0\n",
      "                    ]\n",
      "                }\n",
      "            ]\n",
      "        },\n",
      "        {\n",
      "            \"c\": [\n",
      "                {\n",
      "                    \"d\": [\n",
      "                        1.0,\n",
      "                        2.0,\n",
      "                        3.0\n",
      "                    ]\n",
      "                }\n",
      "            ]\n",
      "        }\n",
      "    ]\n",
      "}\n"
     ]
    }
   ],
   "source": [
    "using StructArrays\n",
    "using JSON\n",
    "\n",
    "\"\"\"\n",
    "Resize StructArray to contain n elements. If n is smaller than the current collection length, the first n elements will be retained.\n",
    "If n is larger, the new elements are not guaranteed to be initialized.\n",
    "\"\"\"\n",
    "function resize!(collection::StructArray, n::Int)\n",
    "    if n>length(collection)\n",
    "        for k in length(collection):n-1\n",
    "            push!(collection,eltype(collection)())\n",
    "            # println(\"push $(length(collection))\")\n",
    "        end\n",
    "    elseif n<length(collection)\n",
    "        for k in n:length(collection)-1\n",
    "            pop!(collection)\n",
    "            # println(\"pop $(length(collection))\")\n",
    "        end\n",
    "    end\n",
    "    return collection\n",
    "end\n",
    "\n",
    "Base.@kwdef struct c\n",
    "    d:: Vector{Float64} = [1.0, 2.0, 3.0]\n",
    "end\n",
    "\n",
    "Base.@kwdef struct b\n",
    "    c :: StructArray{c} = StructArray(c() for k in 1:1)#; unwrap = t -> t<:c)\n",
    "end\n",
    "\n",
    "Base.@kwdef struct a\n",
    "    b :: StructArray{b} = StructArray(b() for k in 1:1)#; unwrap = t -> t<:b)\n",
    "end\n",
    "\n",
    "tmp=a()\n",
    "resize!(tmp.b,3)\n",
    "resize!(tmp.b,4)\n",
    "resize!(tmp.b,2)\n",
    "resize!(tmp.b,0)\n",
    "resize!(tmp.b,5)\n",
    "JSON.print(tmp,4)"
   ]
  },
  {
   "cell_type": "code",
   "execution_count": 13,
   "id": "d958f0d6-2e4d-462e-bf88-1565b991441a",
   "metadata": {},
   "outputs": [
    {
     "data": {
      "text/plain": [
       "ComplexF64 (alias for Complex{Float64})"
      ]
     },
     "execution_count": 13,
     "metadata": {},
     "output_type": "execute_result"
    }
   ],
   "source": [
    "Complex{Float64}"
   ]
  },
  {
   "cell_type": "code",
   "execution_count": 33,
   "id": "3b8ac74a-8123-431d-abbb-90ab0796bf8d",
   "metadata": {},
   "outputs": [
    {
     "ename": "LoadError",
     "evalue": "syntax: expected assignment after \"const\"",
     "output_type": "error",
     "traceback": [
      "syntax: expected assignment after \"const\"",
      "",
      "Stacktrace:",
      " [1] top-level scope",
      "   @ In[33]:3",
      " [2] eval",
      "   @ ./boot.jl:360 [inlined]",
      " [3] include_string(mapexpr::typeof(REPL.softscope), mod::Module, code::String, filename::String)",
      "   @ Base ./loading.jl:1094"
     ]
    }
   ],
   "source": [
    "struct test3\n",
    "    @reserved const::Int\n",
    "end\n",
    "tmp=test3(0.0)\n",
    "tmp.const_"
   ]
  },
  {
   "cell_type": "code",
   "execution_count": 30,
   "id": "11b4ad64-dd3e-4dbd-830a-4f2849164bf7",
   "metadata": {},
   "outputs": [
    {
     "data": {
      "text/plain": [
       "0"
      ]
     },
     "execution_count": 30,
     "metadata": {},
     "output_type": "execute_result"
    }
   ],
   "source": []
  },
  {
   "cell_type": "code",
   "execution_count": null,
   "id": "8508aa2c-ef13-40c7-981e-f8d7970d02cc",
   "metadata": {},
   "outputs": [],
   "source": []
  }
 ],
 "metadata": {
  "kernelspec": {
   "display_name": "Julia 1.6.0",
   "language": "julia",
   "name": "julia-1.6"
  },
  "language_info": {
   "file_extension": ".jl",
   "mimetype": "application/julia",
   "name": "julia",
   "version": "1.6.0"
  }
 },
 "nbformat": 4,
 "nbformat_minor": 5
}
