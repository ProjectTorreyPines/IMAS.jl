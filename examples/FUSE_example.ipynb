{
 "cells": [
  {
   "cell_type": "code",
   "execution_count": 3,
   "id": "3282a608-845c-41c6-9a76-728bd82f64a1",
   "metadata": {},
   "outputs": [
    {
     "name": "stderr",
     "output_type": "stream",
     "text": [
      "\u001b[32m\u001b[1m  Activating\u001b[22m\u001b[39m environment at `~/.julia/dev/FUSE/Project.toml`\n"
     ]
    }
   ],
   "source": [
    "using Pkg\n",
    "Pkg.activate(\"..\")\n",
    "using Revise\n",
    "using FUSE"
   ]
  },
  {
   "cell_type": "code",
   "execution_count": 5,
   "id": "ec1e6fa0-9d2a-4c36-a4fc-c8b89bc7460b",
   "metadata": {},
   "outputs": [
    {
     "name": "stdout",
     "output_type": "stream",
     "text": [
      "  0.000351 seconds (3.87 k allocations: 230.938 KiB)\n"
     ]
    },
    {
     "data": {
      "text/plain": [
       "10-element Vector{Float64}:\n",
       " 1.0\n",
       " 0.7901234567901234\n",
       " 0.6049382716049383\n",
       " 0.44444444444444453\n",
       " 0.308641975308642\n",
       " 0.19753086419753085\n",
       " 0.11111111111111113\n",
       " 0.04938271604938271\n",
       " 0.01234567901234569\n",
       " 0.0"
      ]
     },
     "execution_count": 5,
     "metadata": {},
     "output_type": "execute_result"
    }
   ],
   "source": [
    "@time data=FUSE.dd();\n",
    "\n",
    "data.core_profiles.profiles_1d[1].grid.rho_tor_norm=range(0,1,length=10)\n",
    "data.core_profiles.profiles_1d[1].electrons.density=(1.0.-data.core_profiles.profiles_1d[1].grid.rho_tor_norm).^2\n",
    "\n",
    "cp = FUSE.core_profiles()\n",
    "cp.profiles_1d[1].grid.rho_tor_norm=range(0,1,length=10)\n",
    "cp.profiles_1d[1].electrons.density=(1.0.-cp.profiles_1d[1].grid.rho_tor_norm).^2"
   ]
  },
  {
   "cell_type": "code",
   "execution_count": null,
   "id": "12e149f1-1fc5-43b9-81aa-13246811acd8",
   "metadata": {},
   "outputs": [
    {
     "name": "stdout",
     "output_type": "stream",
     "text": [
      "equilibrium\n",
      "｜time → Vector{Float64}\n",
      "｜ids_properties\n",
      "｜｜comment → String\n",
      "｜vacuum_toroidal_field\n",
      "｜｜b0 → Vector{Float64}\n",
      "｜｜r0 → Float64\n",
      "｜time_slice\n",
      "｜｜1\n",
      "｜｜｜profiles_1d\n",
      "｜｜｜｜psi → Vector{Float64}\n",
      "｜｜｜｜f → Vector{Float64}\n",
      "｜｜｜｜gm5 → Vector{Float64}\n",
      "｜｜｜｜b_field_max → Vector{Float64}\n",
      "｜｜｜｜dvolume_drho_tor → Vector{Float64}\n",
      "｜｜｜｜gm9 → Vector{Float64}\n",
      "｜｜｜｜dpsi_drho_tor → Vector{Float64}\n",
      "｜｜｜｜f_df_dpsi → Vector{Float64}\n",
      "｜｜｜｜surface → Vector{Float64}\n",
      "｜｜｜｜r_outboard → Vector{Float64}\n",
      "｜｜｜｜rho_tor → Vector{Float64}\n",
      "｜｜｜｜gm8 → Vector{Float64}\n",
      "｜｜｜｜j_tor → Vector{Float64}\n",
      "｜｜｜｜dpressure_dpsi → Vector{Float64}\n",
      "｜｜｜｜phi → Vector{Float64}\n",
      "｜｜｜｜triangularity_upper → Vector{Float64}\n",
      "｜｜｜｜b_field_min → Vector{Float64}\n",
      "｜｜｜｜r_inboard → Vector{Float64}\n",
      "｜｜｜｜darea_drho_tor → Vector{Float64}\n",
      "｜｜｜｜q → Vector{Float64}\n",
      "｜｜｜｜darea_dpsi → Vector{Float64}\n",
      "｜｜｜｜squareness_lower_outer → Vector{Float64}\n",
      "｜｜｜｜triangularity_lower → Vector{Float64}\n",
      "｜｜｜｜pressure → Vector{Float64}\n",
      "｜｜｜｜area → Vector{Float64}\n",
      "｜｜｜｜squareness_upper_inner → Vector{Float64}\n",
      "｜｜｜｜squareness_upper_outer → Vector{Float64}\n",
      "｜｜｜｜gm1 → Vector{Float64}\n",
      "｜｜｜｜geometric_axis\n",
      "｜｜｜｜｜r → Vector{Float64}\n",
      "｜｜｜｜｜z → Vector{Float64}\n",
      "｜｜｜｜rho_tor_norm → Vector{Float64}\n",
      "｜｜｜｜elongation → Vector{Float64}\n",
      "｜｜｜｜squareness_lower_inner → Vector{Float64}\n",
      "｜｜｜｜trapped_fraction → Vector{Float64}\n",
      "｜｜｜｜volume → Vector{Float64}\n",
      "｜｜｜｜dvolume_dpsi → Vector{Float64}\n",
      "｜｜｜｜b_field_average → Vector{Float64}\n",
      "｜｜｜time → Float64\n",
      "｜｜｜profiles_2d\n",
      "｜｜｜｜1\n",
      "｜｜｜｜｜psi → Matrix{Float64}\n",
      "｜｜｜｜｜grid_type\n",
      "｜｜｜｜｜｜index → Int32\n",
      "｜｜｜｜｜phi → Matrix{Float64}\n",
      "｜｜｜｜｜b_field_tor → Matrix{Float64}\n",
      "｜｜｜｜｜grid\n",
      "｜｜｜｜｜｜dim2 → Vector{Float64}\n",
      "｜｜｜｜｜｜dim1 → Vector{Float64}\n",
      "｜｜｜global_quantities\n",
      "｜｜｜｜q_min\n",
      "｜｜｜｜｜value → Float64\n",
      "｜｜｜｜｜rho_tor_norm → Float64\n",
      "｜｜｜｜psi_boundary → Float64\n",
      "｜｜｜｜beta_normal → Float64\n",
      "｜｜｜｜ip → Float64\n",
      "｜｜｜｜q_95 → Float64\n",
      "｜｜｜｜beta_tor → Float64\n",
      "｜｜｜｜magnetic_axis\n",
      "｜｜｜｜｜b_field_tor → Float64\n",
      "｜｜｜｜｜r → Float64\n",
      "｜｜｜｜｜z → Float64\n",
      "｜｜｜｜q_axis → Float64\n",
      "｜｜｜｜psi_axis → Float64\n",
      "｜｜｜boundary\n",
      "｜｜｜｜outline\n",
      "｜｜｜｜｜r → Vector{Float64}\n",
      "｜｜｜｜｜z → Vector{Float64}\n",
      "wall\n",
      "｜description_2d\n",
      "｜｜1\n",
      "｜｜｜limiter\n"
     ]
    }
   ],
   "source": [
    "filename = joinpath(dirname(dirname(abspath(@__FILE__))), \"sample\", \"sample_equilibrium_ods.json\")\n",
    "data  = FUSE.json2fuse(filename; verbose=true);"
   ]
  },
  {
   "cell_type": "code",
   "execution_count": 7,
   "id": "a2dd1d69-3062-44de-9564-33ede273287c",
   "metadata": {},
   "outputs": [
    {
     "ename": "LoadError",
     "evalue": "ArgumentError: Package StructArrays not found in current path:\n- Run `import Pkg; Pkg.add(\"StructArrays\")` to install the StructArrays package.\n",
     "output_type": "error",
     "traceback": [
      "ArgumentError: Package StructArrays not found in current path:\n- Run `import Pkg; Pkg.add(\"StructArrays\")` to install the StructArrays package.\n",
      "",
      "Stacktrace:",
      " [1] require(into::Module, mod::Symbol)",
      "   @ Base ./loading.jl:871",
      " [2] eval",
      "   @ ./boot.jl:360 [inlined]",
      " [3] include_string(mapexpr::typeof(REPL.softscope), mod::Module, code::String, filename::String)",
      "   @ Base ./loading.jl:1094"
     ]
    }
   ],
   "source": [
    "epsilon = 1.8\n",
    "St=1.0\n",
    "Sn=1.0\n",
    "Sj=1.0\n",
    "effectiveZ=2.0\n",
    "\n",
    "bootstrapCoefficient = FUSE.collisionless_bootstrap(FUSE.fuse_parameters[:bootstrapModel], epsilon, St, Sn, Sj, effectiveZ)\n",
    "println(bootstrapCoefficient)"
   ]
  },
  {
   "cell_type": "code",
   "execution_count": null,
   "id": "19539340-fb66-43ce-997a-6f1d18e32cbe",
   "metadata": {},
   "outputs": [],
   "source": []
  }
 ],
 "metadata": {
  "kernelspec": {
   "display_name": "Julia 1.6.0",
   "language": "julia",
   "name": "julia-1.6"
  },
  "language_info": {
   "file_extension": ".jl",
   "mimetype": "application/julia",
   "name": "julia",
   "version": "1.6.0"
  }
 },
 "nbformat": 4,
 "nbformat_minor": 5
}
