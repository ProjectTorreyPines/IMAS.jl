{
 "cells": [
  {
   "cell_type": "code",
   "execution_count": 14,
   "id": "fb47398b-b868-45c4-a34a-ef79c7da44ac",
   "metadata": {},
   "outputs": [
    {
     "output_type": "stream",
     "name": "stderr",
     "text": [
      "┌ Error: Failed to revise /Users/meneghini/.julia/dev/FUSE/src/FUSE.jl\n│   exception = Revise.ReviseEvalException(\"/Users/meneghini/.julia/dev/FUSE/examples/util.jl:472\", ErrorException(\"invalid redefinition of type core_profiles_profiles_1d_grid\"), Any[(top-level scope at util.jl:472, 1)])\n└ @ Revise /Users/meneghini/.julia/packages/Revise/AIcio/src/packagedef.jl:707\n┌ Warning: The running code does not match the saved version for the following files:\n│ \n│   /Users/meneghini/.julia/dev/FUSE/src/FUSE.jl\n│ \n│ If the error was due to evaluation order, it can sometimes be resolved by calling `Revise.retry()`.\n│ Use Revise.errors() to report errors again. Only the first error in each file is shown.\n│ Your prompt color may be yellow until the errors are resolved.\n└ @ Revise /Users/meneghini/.julia/packages/Revise/AIcio/src/packagedef.jl:805\n\u001b[32m\u001b[1m  Activating\u001b[22m\u001b[39m environment at `~/.julia/dev/FUSE/Project.toml`\n"
     ]
    },
    {
     "output_type": "error",
     "ename": "LoadError",
     "evalue": "MethodError: no method matching FUSE.dd()",
     "traceback": [
      "MethodError: no method matching FUSE.dd()",
      "",
      "Stacktrace:",
      " [1] top-level scope",
      "   @ In[14]:8",
      " [2] eval",
      "   @ ./boot.jl:360 [inlined]",
      " [3] include_string(mapexpr::typeof(REPL.softscope), mod::Module, code::String, filename::String)",
      "   @ Base ./loading.jl:1094"
     ]
    }
   ],
   "source": [
    "using Pkg\n",
    "Pkg.activate(\"..\")\n",
    "using Revise\n",
    "using StructArrays\n",
    "\n",
    "using FUSE\n",
    "\n",
    "data=FUSE.dd()\n",
    "\n",
    "data.core_profiles.profiles_1d[1].grid.rho_tor_norm=range(0,1,length=10)\n",
    "data.core_profiles.profiles_1d[1].electrons.density=(1.0.-data.core_profiles.profiles_1d[1].grid.rho_tor_norm).^2"
   ]
  },
  {
   "cell_type": "code",
   "execution_count": 11,
   "metadata": {},
   "outputs": [
    {
     "output_type": "execute_result",
     "data": {
      "text/plain": [
       "10×1 Matrix{Float64}:\n",
       " 0.0\n",
       " 0.1111111111111111\n",
       " 0.2222222222222222\n",
       " 0.3333333333333333\n",
       " 0.4444444444444444\n",
       " 0.5555555555555556\n",
       " 0.6666666666666666\n",
       " 0.7777777777777778\n",
       " 0.8888888888888888\n",
       " 1.0"
      ]
     },
     "metadata": {},
     "execution_count": 11
    }
   ],
   "source": [
    "Base.@kwdef mutable struct bla\n",
    "    entry :: Array{Float64, 2} = zeros(Float64,(0,0))\n",
    "end\n",
    "\n",
    "aaa=zeros(Float64,(1,10))\n",
    "aaa=reshape(collect(range(0,1,length=10)),10,1)\n",
    "\n",
    "tmp=bla(aaa)\n",
    "tmp.entry"
   ]
  },
  {
   "cell_type": "code",
   "execution_count": null,
   "metadata": {},
   "outputs": [],
   "source": []
  }
 ],
 "metadata": {
  "kernelspec": {
   "display_name": "Julia 1.6.0",
   "language": "julia",
   "name": "julia-1.6"
  },
  "language_info": {
   "file_extension": ".jl",
   "mimetype": "application/julia",
   "name": "julia",
   "version": "1.6.0"
  }
 },
 "nbformat": 4,
 "nbformat_minor": 5
}