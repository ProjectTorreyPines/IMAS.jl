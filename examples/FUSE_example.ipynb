{
 "cells": [
  {
   "cell_type": "code",
   "execution_count": 1,
   "id": "3282a608-845c-41c6-9a76-728bd82f64a1",
   "metadata": {},
   "outputs": [
    {
     "name": "stderr",
     "output_type": "stream",
     "text": [
      "\u001b[32m\u001b[1m  Activating\u001b[22m\u001b[39m environment at `~/.julia/dev/FUSE/Project.toml`\n"
     ]
    }
   ],
   "source": [
    "using Pkg\n",
    "Pkg.activate(\"..\")\n",
    "using Revise"
   ]
  },
  {
   "cell_type": "code",
   "execution_count": 2,
   "id": "4fc64051-d83c-4d1f-a0ad-3c2d06aeefe5",
   "metadata": {},
   "outputs": [
    {
     "name": "stderr",
     "output_type": "stream",
     "text": [
      "┌ Info: Precompiling FUSE [e64856f0-3bb8-4376-b4b7-c03396503992]\n",
      "└ @ Base loading.jl:1317\n",
      "\u001b[32mProgress:   0%|                           |  ETA: 0:04:16 ( 0.29  s/it)\u001b[39m\u001b[K\u001b[91m\u001b[1mERROR: \u001b[22m\u001b[39mLoadError: ArgumentError: core_profiles.profiles_1d[:].zeff_fit.source IMAS STR_1D has not been mapped to Julia data type\n",
      "Stacktrace:\n",
      " [1] top-level scope\n",
      "\u001b[90m   @ \u001b[39m\u001b[90m~/.julia/dev/FUSE/src/\u001b[39m\u001b[90;4mFUSE.jl:74\u001b[0m\n",
      " [2] \u001b[0m\u001b[1minclude\u001b[22m\n",
      "\u001b[90m   @ \u001b[39m\u001b[90m./\u001b[39m\u001b[90;4mBase.jl:386\u001b[0m\u001b[90m [inlined]\u001b[39m\n",
      " [3] \u001b[0m\u001b[1minclude_package_for_output\u001b[22m\u001b[0m\u001b[1m(\u001b[22m\u001b[90mpkg\u001b[39m::\u001b[0mBase.PkgId, \u001b[90minput\u001b[39m::\u001b[0mString, \u001b[90mdepot_path\u001b[39m::\u001b[0mVector\u001b[90m{String}\u001b[39m, \u001b[90mdl_load_path\u001b[39m::\u001b[0mVector\u001b[90m{String}\u001b[39m, \u001b[90mload_path\u001b[39m::\u001b[0mVector\u001b[90m{String}\u001b[39m, \u001b[90mconcrete_deps\u001b[39m::\u001b[0mVector\u001b[90m{Pair{Base.PkgId, UInt64}}\u001b[39m, \u001b[90msource\u001b[39m::\u001b[0mNothing\u001b[0m\u001b[1m)\u001b[22m\n",
      "\u001b[90m   @ \u001b[39m\u001b[90mBase\u001b[39m \u001b[90m./\u001b[39m\u001b[90;4mloading.jl:1213\u001b[0m\n",
      " [4] top-level scope\n",
      "\u001b[90m   @ \u001b[39m\u001b[90;4mnone:1\u001b[0m\n",
      " [5] \u001b[0m\u001b[1meval\u001b[22m\n",
      "\u001b[90m   @ \u001b[39m\u001b[90m./\u001b[39m\u001b[90;4mboot.jl:360\u001b[0m\u001b[90m [inlined]\u001b[39m\n",
      " [6] \u001b[0m\u001b[1meval\u001b[22m\u001b[0m\u001b[1m(\u001b[22m\u001b[90mx\u001b[39m::\u001b[0mExpr\u001b[0m\u001b[1m)\u001b[22m\n",
      "\u001b[90m   @ \u001b[39m\u001b[90mBase.MainInclude\u001b[39m \u001b[90m./\u001b[39m\u001b[90;4mclient.jl:446\u001b[0m\n",
      " [7] top-level scope\n",
      "\u001b[90m   @ \u001b[39m\u001b[90;4mnone:1\u001b[0m\n",
      "in expression starting at /Users/meneghini/.julia/dev/FUSE/src/FUSE.jl:3\n"
     ]
    },
    {
     "ename": "LoadError",
     "evalue": "Failed to precompile FUSE [e64856f0-3bb8-4376-b4b7-c03396503992] to /Users/meneghini/.julia/compiled/v1.6/FUSE/jl_5lKJAE.",
     "output_type": "error",
     "traceback": [
      "Failed to precompile FUSE [e64856f0-3bb8-4376-b4b7-c03396503992] to /Users/meneghini/.julia/compiled/v1.6/FUSE/jl_5lKJAE.",
      "",
      "Stacktrace:",
      " [1] error(s::String)",
      "   @ Base ./error.jl:33",
      " [2] compilecache(pkg::Base.PkgId, path::String, internal_stderr::IJulia.IJuliaStdio{Base.PipeEndpoint}, internal_stdout::IJulia.IJuliaStdio{Base.PipeEndpoint})",
      "   @ Base ./loading.jl:1360",
      " [3] compilecache(pkg::Base.PkgId, path::String)",
      "   @ Base ./loading.jl:1306",
      " [4] _require(pkg::Base.PkgId)",
      "   @ Base ./loading.jl:1021",
      " [5] require(uuidkey::Base.PkgId)",
      "   @ Base ./loading.jl:914",
      " [6] require(into::Module, mod::Symbol)",
      "   @ Base ./loading.jl:901",
      " [7] eval",
      "   @ ./boot.jl:360 [inlined]",
      " [8] include_string(mapexpr::typeof(REPL.softscope), mod::Module, code::String, filename::String)",
      "   @ Base ./loading.jl:1094"
     ]
    }
   ],
   "source": [
    "using FUSE"
   ]
  },
  {
   "cell_type": "code",
   "execution_count": 6,
   "id": "ec1e6fa0-9d2a-4c36-a4fc-c8b89bc7460b",
   "metadata": {},
   "outputs": [
    {
     "ename": "LoadError",
     "evalue": "type dd has no field core_profiles",
     "output_type": "error",
     "traceback": [
      "type dd has no field core_profiles",
      "",
      "Stacktrace:",
      " [1] getproperty(x::FUSE.dd, f::Symbol)",
      "   @ Base ./Base.jl:33",
      " [2] top-level scope",
      "   @ In[6]:3",
      " [3] eval",
      "   @ ./boot.jl:360 [inlined]",
      " [4] include_string(mapexpr::typeof(REPL.softscope), mod::Module, code::String, filename::String)",
      "   @ Base ./loading.jl:1094"
     ]
    }
   ],
   "source": [
    "data=FUSE.dd();\n",
    "\n",
    "data.core_profiles.profiles_1d[1].grid.rho_tor_norm=range(0,1,length=10)\n",
    "data.core_profiles.profiles_1d[1].electrons.density=(1.0.-data.core_profiles.profiles_1d[1].grid.rho_tor_norm).^2"
   ]
  },
  {
   "cell_type": "code",
   "execution_count": null,
   "id": "c126b578-9793-4e77-bd8c-fbf46872b74d",
   "metadata": {},
   "outputs": [],
   "source": []
  }
 ],
 "metadata": {
  "kernelspec": {
   "display_name": "Julia 1.6.0",
   "language": "julia",
   "name": "julia-1.6"
  },
  "language_info": {
   "file_extension": ".jl",
   "mimetype": "application/julia",
   "name": "julia",
   "version": "1.6.0"
  }
 },
 "nbformat": 4,
 "nbformat_minor": 5
}
