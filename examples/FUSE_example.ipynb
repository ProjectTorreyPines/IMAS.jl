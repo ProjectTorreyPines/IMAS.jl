{
 "cells": [
  {
   "cell_type": "code",
   "execution_count": 1,
   "id": "3282a608-845c-41c6-9a76-728bd82f64a1",
   "metadata": {},
   "outputs": [
    {
     "name": "stderr",
     "output_type": "stream",
     "text": [
      "\u001b[32m\u001b[1m  Activating\u001b[22m\u001b[39m environment at `~/.julia/dev/FUSE/Project.toml`\n",
      "┌ Info: Precompiling FUSE [e64856f0-3bb8-4376-b4b7-c03396503992]\n",
      "└ @ Base loading.jl:1317\n",
      "\u001b[33m\u001b[1m┌ \u001b[22m\u001b[39m\u001b[33m\u001b[1mWarning: \u001b[22m\u001b[39mPackage FUSE does not have Pkg in its dependencies:\n",
      "\u001b[33m\u001b[1m│ \u001b[22m\u001b[39m- If you have FUSE checked out for development and have\n",
      "\u001b[33m\u001b[1m│ \u001b[22m\u001b[39m  added Pkg as a dependency but haven't updated your primary\n",
      "\u001b[33m\u001b[1m│ \u001b[22m\u001b[39m  environment's manifest file, try `Pkg.resolve()`.\n",
      "\u001b[33m\u001b[1m│ \u001b[22m\u001b[39m- Otherwise you may need to report an issue with FUSE\n",
      "\u001b[33m\u001b[1m└ \u001b[22m\u001b[39mLoading Pkg into FUSE from project dependency, future warnings for FUSE are suppressed.\n",
      "\u001b[32m\u001b[1m  Activating\u001b[22m\u001b[39m environment at `~/.julia/dev/FUSE/Project.toml`\n"
     ]
    }
   ],
   "source": [
    "using Pkg\n",
    "Pkg.activate(\"..\")\n",
    "using Revise\n",
    "using FUSE"
   ]
  },
  {
   "cell_type": "code",
   "execution_count": 4,
   "id": "ec1e6fa0-9d2a-4c36-a4fc-c8b89bc7460b",
   "metadata": {},
   "outputs": [
    {
     "ename": "LoadError",
     "evalue": "UndefRefError: access to undefined reference",
     "output_type": "error",
     "traceback": [
      "UndefRefError: access to undefined reference",
      "",
      "Stacktrace:",
      " [1] getindex",
      "   @ ./array.jl:801 [inlined]",
      " [2] get_ith",
      "   @ ~/.julia/packages/StructArrays/GhBGM/src/structarray.jl:330 [inlined]",
      " [3] get_ith",
      "   @ ~/.julia/packages/StructArrays/GhBGM/src/structarray.jl:328 [inlined]",
      " [4] getindex(x::StructArrays.StructVector{FUSE.core_profiles__profiles_1d, NamedTuple{(:pressure_ion_total, :time, :t_i_average_fit, :neutral, :n_i_thermal_total, :magnetic_shear, :ion, :j_total, :rotation_frequency_tor_sonic, :pressure_thermal, :j_tor, :t_i_average, :e_field_parallel, :momentum_tor, :pressure_perpendicular, :electrons, :q, :j_non_inductive, :conductivity_parallel, :current_parallel_inside, :j_ohmic, :phi_potential, :grid, :j_bootstrap, :zeff_fit, :pressure_parallel, :e_field, :zeff, :n_i_total_over_n_e), Tuple{Vector{Vector{Float64}}, Vector{Float64}, Vector{FUSE.core_profiles__profiles_1d__t_i_average_fit}, Vector{StructArrays.StructArray{FUSE.core_profiles__profiles_1d__neutral, N, C, I} where {N, C<:Union{Tuple, NamedTuple}, I}}, Vector{Vector{Float64}}, Vector{Vector{Float64}}, Vector{StructArrays.StructArray{FUSE.core_profiles__profiles_1d__ion, N, C, I} where {N, C<:Union{Tuple, NamedTuple}, I}}, Vector{Vector{Float64}}, Vector{Vector{Float64}}, Vector{Vector{Float64}}, Vector{Vector{Float64}}, Vector{Vector{Float64}}, Vector{Vector{Float64}}, Vector{Vector{Float64}}, Vector{Vector{Float64}}, Vector{FUSE.core_profiles__profiles_1d__electrons}, Vector{Vector{Float64}}, Vector{Vector{Float64}}, Vector{Vector{Float64}}, Vector{Vector{Float64}}, Vector{Vector{Float64}}, Vector{Vector{Float64}}, Vector{FUSE.core_profiles__profiles_1d__grid}, Vector{Vector{Float64}}, Vector{FUSE.core_profiles__profiles_1d__zeff_fit}, Vector{Vector{Float64}}, Vector{FUSE.core_profiles__profiles_1d__e_field}, Vector{Vector{Float64}}, Vector{Vector{Float64}}}}, Int64}, I::Int64)",
      "   @ StructArrays ~/.julia/packages/StructArrays/GhBGM/src/structarray.jl:344",
      " [5] top-level scope",
      "   @ In[4]:9",
      " [6] eval",
      "   @ ./boot.jl:360 [inlined]",
      " [7] include_string(mapexpr::typeof(REPL.softscope), mod::Module, code::String, filename::String)",
      "   @ Base ./loading.jl:1094"
     ]
    }
   ],
   "source": [
    "cp = FUSE.core_profiles()\n",
    "cp.profiles_1d[1].grid.rho_tor_norm = range(0, 1, length=10)\n",
    "cp.profiles_1d[1].electrons.density = (1.0 .- cp.profiles_1d[1].grid.rho_tor_norm).^2\n",
    "length(cp.profiles_1d[1].grid.rho_tor_norm) == 10\n",
    "\n",
    "# resize an array of struct\n",
    "resize!(cp.profiles_1d, 2)\n",
    "length(cp.profiles_1d) == 2\n",
    "cp.profiles_1d[1]=cp.profiles_1d[2]"
   ]
  },
  {
   "cell_type": "code",
   "execution_count": 18,
   "id": "12e149f1-1fc5-43b9-81aa-13246811acd8",
   "metadata": {},
   "outputs": [],
   "source": [
    "abstract type bla{T} <: AbstractArray{T,1} end"
   ]
  },
  {
   "cell_type": "code",
   "execution_count": 2,
   "id": "5def3678-6333-4b2b-bbe0-f6caca5bd784",
   "metadata": {},
   "outputs": [
    {
     "name": "stdout",
     "output_type": "stream",
     "text": [
      "{\n",
      "    \"b\": [\n",
      "        {\n",
      "            \"c\": [\n",
      "                {\n",
      "                    \"d\": [\n",
      "                        1.0,\n",
      "                        2.0,\n",
      "                        3.0\n",
      "                    ]\n",
      "                }\n",
      "            ]\n",
      "        },\n",
      "        {\n",
      "            \"c\": [\n",
      "                {\n",
      "                    \"d\": [\n",
      "                        1.0,\n",
      "                        2.0,\n",
      "                        3.0\n",
      "                    ]\n",
      "                }\n",
      "            ]\n",
      "        },\n",
      "        {\n",
      "            \"c\": [\n",
      "                {\n",
      "                    \"d\": [\n",
      "                        1.0,\n",
      "                        2.0,\n",
      "                        3.0\n",
      "                    ]\n",
      "                }\n",
      "            ]\n",
      "        },\n",
      "        {\n",
      "            \"c\": [\n",
      "                {\n",
      "                    \"d\": [\n",
      "                        1.0,\n",
      "                        2.0,\n",
      "                        3.0\n",
      "                    ]\n",
      "                }\n",
      "            ]\n",
      "        },\n",
      "        {\n",
      "            \"c\": [\n",
      "                {\n",
      "                    \"d\": [\n",
      "                        1.0,\n",
      "                        2.0,\n",
      "                        3.0\n",
      "                    ]\n",
      "                }\n",
      "            ]\n",
      "        }\n",
      "    ]\n",
      "}\n"
     ]
    }
   ],
   "source": [
    "using StructArrays\n",
    "using JSON\n",
    "\n",
    "\"\"\"\n",
    "Resize StructArray to contain n elements. If n is smaller than the current collection length, the first n elements will be retained.\n",
    "If n is larger, the new elements are not guaranteed to be initialized.\n",
    "\"\"\"\n",
    "function resize!(collection::StructArray, n::Int)\n",
    "    if n>length(collection)\n",
    "        for k in length(collection):n-1\n",
    "            push!(collection,eltype(collection)())\n",
    "            # println(\"push $(length(collection))\")\n",
    "        end\n",
    "    elseif n<length(collection)\n",
    "        for k in n:length(collection)-1\n",
    "            pop!(collection)\n",
    "            # println(\"pop $(length(collection))\")\n",
    "        end\n",
    "    end\n",
    "    return collection\n",
    "end\n",
    "\n",
    "Base.@kwdef struct c\n",
    "    d:: Vector{Float64} = [1.0, 2.0, 3.0]\n",
    "end\n",
    "\n",
    "Base.@kwdef struct b\n",
    "    c :: StructArray{c} = StructArray(c() for k in 1:1)#; unwrap = t -> t<:c)\n",
    "end\n",
    "\n",
    "Base.@kwdef struct a\n",
    "    b :: StructArray{b} = StructArray(b() for k in 1:1)#; unwrap = t -> t<:b)\n",
    "end\n",
    "\n",
    "tmp=a()\n",
    "resize!(tmp.b,3)\n",
    "resize!(tmp.b,4)\n",
    "resize!(tmp.b,2)\n",
    "resize!(tmp.b,0)\n",
    "resize!(tmp.b,5)\n",
    "JSON.print(tmp,4)"
   ]
  },
  {
   "cell_type": "code",
   "execution_count": 13,
   "id": "d958f0d6-2e4d-462e-bf88-1565b991441a",
   "metadata": {},
   "outputs": [
    {
     "data": {
      "text/plain": [
       "ComplexF64 (alias for Complex{Float64})"
      ]
     },
     "execution_count": 13,
     "metadata": {},
     "output_type": "execute_result"
    }
   ],
   "source": [
    "Complex{Float64}"
   ]
  },
  {
   "cell_type": "code",
   "execution_count": 33,
   "id": "3b8ac74a-8123-431d-abbb-90ab0796bf8d",
   "metadata": {},
   "outputs": [
    {
     "ename": "LoadError",
     "evalue": "syntax: expected assignment after \"const\"",
     "output_type": "error",
     "traceback": [
      "syntax: expected assignment after \"const\"",
      "",
      "Stacktrace:",
      " [1] top-level scope",
      "   @ In[33]:3",
      " [2] eval",
      "   @ ./boot.jl:360 [inlined]",
      " [3] include_string(mapexpr::typeof(REPL.softscope), mod::Module, code::String, filename::String)",
      "   @ Base ./loading.jl:1094"
     ]
    }
   ],
   "source": [
    "struct test3\n",
    "    @reserved const::Int\n",
    "end\n",
    "tmp=test3(0.0)\n",
    "tmp.const_"
   ]
  },
  {
   "cell_type": "code",
   "execution_count": 30,
   "id": "11b4ad64-dd3e-4dbd-830a-4f2849164bf7",
   "metadata": {},
   "outputs": [
    {
     "data": {
      "text/plain": [
       "0"
      ]
     },
     "execution_count": 30,
     "metadata": {},
     "output_type": "execute_result"
    }
   ],
   "source": []
  },
  {
   "cell_type": "code",
   "execution_count": null,
   "id": "8508aa2c-ef13-40c7-981e-f8d7970d02cc",
   "metadata": {},
   "outputs": [],
   "source": []
  }
 ],
 "metadata": {
  "kernelspec": {
   "display_name": "Julia 1.6.0",
   "language": "julia",
   "name": "julia-1.6"
  },
  "language_info": {
   "file_extension": ".jl",
   "mimetype": "application/julia",
   "name": "julia",
   "version": "1.6.0"
  }
 },
 "nbformat": 4,
 "nbformat_minor": 5
}
