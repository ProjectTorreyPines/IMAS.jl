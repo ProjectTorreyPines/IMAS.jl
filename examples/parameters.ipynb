{
 "cells": [
  {
   "cell_type": "code",
   "execution_count": null,
   "id": "091a2f19-a24f-4c58-9631-913d3ba44326",
   "metadata": {},
   "outputs": [],
   "source": [
    "using Pkg\n",
    "Pkg.activate(\"..\")\n",
    "using Revise\n",
    "using IMAS;"
   ]
  },
  {
   "cell_type": "code",
   "execution_count": 3,
   "id": "8b343485-b2b7-41cb-8a55-857b871f5347",
   "metadata": {},
   "outputs": [],
   "source": [
    "using IMAS\n",
    "\n",
    "\n",
    "#= ============== =#\n",
    "# initialization #\n",
    "#= ============== =#\n",
    "\n",
    "PP = IMAS.imas_parameters[:PLASMA_PARAMETERS]\n",
    "PM = IMAS.imas_parameters[:PHYSICS_MODELS]\n",
    "\n",
    "core1D = IMAS.core_profiles__profiles_1d()\n",
    "\n",
    "n = 11\n",
    "\n",
    "core1D.grid.rho_tor_norm = range(0.0, 1.0, length=n)\n",
    "core1D.electrons.density = (rho_tor_norm;_...) -> PP[:ne0] .* (1.0 .- rho_tor_norm.^2).^PP[:Sn]\n",
    "core1D.electrons.temperature = (rho_tor_norm;_...) -> PP[:Te0] .* (1.0 .- rho_tor_norm.^2).^PP[:St]\n",
    "\n",
    "core1D.j_total = (x;_...) -> (1.0 .- x.^2).^PP[:Sj]\n",
    "\n",
    "equil = IMAS.equilibrium__time_slice()\n",
    "equil.profiles_1d.psi = range(0.0, 1.0, length=n)\n",
    "equil.profiles_1d.elongation = (psi;_...) -> psi .* 0.0 .+ PP[:elongation]\n",
    "equil.profiles_1d.geometric_axis.r = (psi;_...) -> psi .* 0.0 .+ PP[:R0]\n",
    "print(equil.profiles_1d.geometric_axis.z)\n",
    "\n",
    "bootstrapCoefficient = IMAS.collisionless_bootstrap(PM[:bootstrapModel], PP[:elongation], PP[:St], PP[:Sn], PP[:Sj], PP[:Zeff])\n",
    "println(bootstrapCoefficient)\n",
    "\n",
    "# maxStableElongation(aspectRatio) = 2.43 + 65.0 * exp(-aspectRatio / 0.376)\n",
    "\n",
    "# #elongation_fraction = elongation / maxStableElongation"
   ]
  },
  {
   "cell_type": "code",
   "execution_count": 2,
   "id": "244473ea-792b-4c4f-8e52-4565460f4ff7",
   "metadata": {},
   "outputs": [
    {
     "name": "stdout",
     "output_type": "stream",
     "text": [
      "[1602.18, 1408.166015625, 901.2262499999999, 306.667265625, 0.0]\n",
      "[3204.36, 2816.33203125, 1802.4524999999999, 613.33453125, 0.0]\n"
     ]
    }
   ],
   "source": [
    "core_profiles = IMAS.core_profiles()\n",
    "resize!(core_profiles.profiles_1d, 1)\n",
    "profiles_1d = core_profiles.profiles_1d[1]\n",
    "\n",
    "n = 5\n",
    "ne0 = 1e19\n",
    "Te0 = 1e3\n",
    "\n",
    "profiles_1d.grid.rho_tor_norm = range(0.0, 1.0, length=n)\n",
    "profiles_1d.electrons.density = ne0 .* (1.0 .- profiles_1d.grid.rho_tor_norm .^ 2)  # numerical array\n",
    "profiles_1d.electrons.temperature = (rho_tor_norm;_...) -> Te0 .* (1.0 .- rho_tor_norm .^ 2) # user defined function\n",
    "\n",
    "#profiles_1d.grid.rho_tor_norm = range(0.0, 1.0, length=11)\n",
    "#println(profiles_1d.electrons.density)\n",
    "\n",
    "println(profiles_1d.electrons.pressure) # expression from transformation library\n",
    "profiles_1d.electrons.temperature = profiles_1d.electrons.temperature .* 2\n",
    "println(profiles_1d.electrons.pressure) # expression from transformation library\n"
   ]
  },
  {
   "cell_type": "code",
   "execution_count": 3,
   "id": "ccb3d767-aea8-446c-ae44-c45ca087d304",
   "metadata": {},
   "outputs": [
    {
     "name": "stdout",
     "output_type": "stream",
     "text": [
      "[6408.72, 5632.6640625, 3604.9049999999997, 1226.6690625, 0.0]\n"
     ]
    }
   ],
   "source": [
    "profiles_1d.electrons.density = 2.0 .* profiles_1d.electrons.density\n",
    "println(profiles_1d.electrons.pressure) # expression is updated based on new density value --> consistency"
   ]
  },
  {
   "cell_type": "code",
   "execution_count": 4,
   "id": "dd97a17b-1664-414e-9cba-136432683569",
   "metadata": {},
   "outputs": [
    {
     "name": "stdout",
     "output_type": "stream",
     "text": [
      "[12817.44, 11265.328125, 7209.8099999999995, 2453.338125, 0.0]\n"
     ]
    }
   ],
   "source": [
    "profiles_1d.electrons.temperature = 2.0 .* profiles_1d.electrons.temperature\n",
    "println(profiles_1d.electrons.pressure) # expression keeps being updated based on new density value --> consistency"
   ]
  },
  {
   "cell_type": "code",
   "execution_count": 5,
   "id": "b91e6f3e-4843-4f63-b363-0201e3026712",
   "metadata": {},
   "outputs": [
    {
     "ename": "LoadError",
     "evalue": "MethodError: objects of type Vector{Float64} are not callable\nUse square brackets [] for indexing an Array.",
     "output_type": "error",
     "traceback": [
      "MethodError: objects of type Vector{Float64} are not callable\nUse square brackets [] for indexing an Array.",
      "",
      "Stacktrace:",
      " [1] top-level scope",
      "   @ In[5]:4",
      " [2] eval",
      "   @ ./boot.jl:360 [inlined]",
      " [3] include_string(mapexpr::typeof(REPL.softscope), mod::Module, code::String, filename::String)",
      "   @ Base ./loading.jl:1094"
     ]
    }
   ],
   "source": [
    "filename = joinpath(dirname(dirname(abspath(@__FILE__))), \"sample\", \"sample_equilibrium_ods.json\")\n",
    "data  = IMAS.json2imas(filename; verbose=false)\n",
    "time_slice = data.equilibrium.time_slice[1]\n",
    "pres0=time_slice.profiles_1d.pressure();"
   ]
  },
  {
   "cell_type": "code",
   "execution_count": 39,
   "id": "491737cd-dfc4-44e9-88cc-ed113c65f9b0",
   "metadata": {},
   "outputs": [],
   "source": [
    "\n",
    "\n",
    "function test_gradient(mul)\n",
    "    a = pres0 .* mul\n",
    "    print(typeof(a))\n",
    "    time_slice.profiles_1d.pressure = a\n",
    "    #time_slice.global_quantities.energy_mhd\n",
    "#    time_slice.global_quantities.energy_mhd\n",
    "    sum(time_slice.profiles_1d.pressure)\n",
    "    sum(a)\n",
    "end\n",
    "\n",
    "#test_gradient(2)\n",
    "\n",
    "Zygote.gradient(test_gradient, 1)"
   ]
  },
  {
   "cell_type": "code",
   "execution_count": null,
   "id": "199e934f-b843-4951-9f51-53dde47057d8",
   "metadata": {},
   "outputs": [],
   "source": [
    "profiles_1d = IMAS.equilibrium__time_slice___profiles_1d()\n",
    "\n",
    "Pkg.add(\"Zygote\")\n",
    "using Zygote\n",
    "\n",
    "profiles_1d.psi = range(0.0, 1.0, length=5)\n",
    "\n",
    "function test_gradient(mul)\n",
    "    a = profiles_1d.psi .* mul\n",
    "    profiles_1d.psi = a * mul\n",
    "#    sum(a)\n",
    "    sum(profiles_1d.psi)\n",
    "end\n",
    "\n",
    "# #test_gradient(2)\n",
    "\n",
    "Zygote.gradient(test_gradient, 1)"
   ]
  }
 ],
 "metadata": {
  "kernelspec": {
   "display_name": "Julia 1.6.0",
   "language": "julia",
   "name": "julia-1.6"
  },
  "language_info": {
   "file_extension": ".jl",
   "mimetype": "application/julia",
   "name": "julia",
   "version": "1.6.0"
  }
 },
 "nbformat": 4,
 "nbformat_minor": 5
}
