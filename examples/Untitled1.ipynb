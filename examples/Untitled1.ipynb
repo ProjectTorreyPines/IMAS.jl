{
 "cells": [
  {
   "cell_type": "code",
   "execution_count": 2,
   "id": "ff431d97-b540-46dd-ab1f-0dc976113be8",
   "metadata": {},
   "outputs": [
    {
     "name": "stderr",
     "output_type": "stream",
     "text": [
      "┌ Warning: skipping callee ##imas_load_dd_unmemoized (called by false) due to UndefVarError(Symbol(\"#854#855\"))\n",
      "└ @ LoweredCodeUtils /Users/meneghini/.julia/packages/LoweredCodeUtils/PdXxZ/src/signatures.jl:279\n",
      "\u001b[32m\u001b[1m  Activating\u001b[22m\u001b[39m environment at `~/.julia/dev/FUSE/Project.toml`\n"
     ]
    }
   ],
   "source": [
    "using Pkg\n",
    "Pkg.activate(\"..\")\n",
    "using Revise\n",
    "using FUSE;"
   ]
  },
  {
   "cell_type": "code",
   "execution_count": 9,
   "id": "9055ae13-9ce7-4696-98c0-6b2b4b4b91b4",
   "metadata": {},
   "outputs": [
    {
     "ename": "LoadError",
     "evalue": "Can't differentiate loopinfo expression",
     "output_type": "error",
     "traceback": [
      "Can't differentiate loopinfo expression",
      "",
      "Stacktrace:",
      "  [1] error(s::String)",
      "    @ Base ./error.jl:33",
      "  [2] macro expansion",
      "    @ ./simdloop.jl:79 [inlined]",
      "  [3] Pullback",
      "    @ ~/.julia/packages/Trapz/UoNri/src/kernels.jl:41 [inlined]",
      "  [4] Pullback",
      "    @ ~/.julia/packages/Trapz/UoNri/src/kernels.jl:64 [inlined]",
      "  [5] Pullback",
      "    @ ~/.julia/packages/Trapz/UoNri/src/Trapz.jl:7 [inlined]",
      "  [6] (::typeof(∂(trapz)))(Δ::Float64)",
      "    @ Zygote ~/.julia/packages/Zygote/6HN9x/src/compiler/interface2.jl:0",
      "  [7] Pullback",
      "    @ ./In[9]:16 [inlined]",
      "  [8] (::typeof(∂(test_gradient)))(Δ::Float64)",
      "    @ Zygote ~/.julia/packages/Zygote/6HN9x/src/compiler/interface2.jl:0",
      "  [9] (::Zygote.var\"#41#42\"{typeof(∂(test_gradient))})(Δ::Float64)",
      "    @ Zygote ~/.julia/packages/Zygote/6HN9x/src/compiler/interface.jl:41",
      " [10] gradient(f::Function, args::Int64)",
      "    @ Zygote ~/.julia/packages/Zygote/6HN9x/src/compiler/interface.jl:59",
      " [11] top-level scope",
      "    @ In[9]:20",
      " [12] eval",
      "    @ ./boot.jl:360 [inlined]",
      " [13] include_string(mapexpr::typeof(REPL.softscope), mod::Module, code::String, filename::String)",
      "    @ Base ./loading.jl:1094"
     ]
    }
   ],
   "source": [
    "time_slice = FUSE.equilibrium__time_slice()\n",
    "profiles_1d = time_slice.profiles_1d\n",
    "\n",
    "using Zygote\n",
    "using Trapz\n",
    "\n",
    "n=11\n",
    "profiles_1d.psi = collect(range(0.0, 1.0, length=n))\n",
    "profiles_1d.pressure = collect(1.0.-range(0.0, 1.0, length=n).^2)\n",
    "profiles_1d.volume = collect(range(0.0, 1.0, length=n))\n",
    "\n",
    "function test_gradient(mul)\n",
    "    profiles_1d.pressure = profiles_1d.pressure * mul\n",
    "    sum(profiles_1d.pressure)\n",
    "#    time_slice.profiles_1d.volume()\n",
    "    time_slice.global_quantities.energy_mhd = 3 / 2 .* trapz(time_slice.profiles_1d.volume, time_slice.profiles_1d.pressure)\n",
    "end\n",
    "\n",
    "#test_gradient(1)\n",
    "gradient(test_gradient, 3)"
   ]
  }
 ],
 "metadata": {
  "kernelspec": {
   "display_name": "Julia 1.6.0",
   "language": "julia",
   "name": "julia-1.6"
  },
  "language_info": {
   "file_extension": ".jl",
   "mimetype": "application/julia",
   "name": "julia",
   "version": "1.6.0"
  }
 },
 "nbformat": 4,
 "nbformat_minor": 5
}
