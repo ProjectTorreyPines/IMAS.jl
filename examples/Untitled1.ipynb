{
 "cells": [
  {
   "cell_type": "code",
   "execution_count": 1,
   "id": "ff431d97-b540-46dd-ab1f-0dc976113be8",
   "metadata": {},
   "outputs": [
    {
     "name": "stderr",
     "output_type": "stream",
     "text": [
      "\u001b[32m\u001b[1m  Activating\u001b[22m\u001b[39m environment at `~/.julia/dev/IMAS/Project.toml`\n",
      "┌ Warning: no Manifest.toml file found, static paths used\n",
      "└ @ Revise /Users/meneghini/.julia/packages/Revise/AIcio/src/packagedef.jl:1369\n",
      "┌ Info: Precompiling IMAS [e64856f0-3bb8-4376-b4b7-c03396503992]\n",
      "└ @ Base loading.jl:1317\n"
     ]
    }
   ],
   "source": [
    "using Pkg\n",
    "Pkg.activate(\"..\")\n",
    "using Revise\n",
    "using IMAS"
   ]
  },
  {
   "cell_type": "code",
   "execution_count": 2,
   "id": "806f9431-4c66-4fc6-8760-54c6498b5e72",
   "metadata": {},
   "outputs": [
    {
     "data": {
      "text/plain": [
       "0.9975"
      ]
     },
     "execution_count": 2,
     "metadata": {},
     "output_type": "execute_result"
    }
   ],
   "source": [
    "time_slice = IMAS.equilibrium__time_slice()\n",
    "profiles_1d = time_slice.profiles_1d\n",
    "\n",
    "n=11\n",
    "profiles_1d.psi = collect(range(0.0, 1.0, length=n))\n",
    "profiles_1d.pressure = collect(1.0.-range(0.0, 1.0, length=n).^2)\n",
    "profiles_1d.volume = collect(range(0.0, 1.0, length=n))\n",
    "time_slice.global_quantities.energy_mhd"
   ]
  },
  {
   "cell_type": "code",
   "execution_count": 4,
   "id": "3aaf03eb-1049-4600-aa00-fbd646a2e0f7",
   "metadata": {},
   "outputs": [
    {
     "name": "stdout",
     "output_type": "stream",
     "text": [
      "[1.60218e-19, 1.594179113625e-19, 1.570296618e-19, 1.5308930036250002e-19, 1.476569088e-19, 1.408166015625e-19, 1.326765258e-19, 1.2336886136250001e-19, 1.1304982079999998e-19, 1.018996493625e-19, 9.0122625e-20, 7.79470583625e-20, 6.56252928e-20, 5.343370436249998e-20, 4.16727018e-20, 3.06667265625e-20, 2.0764252799999985e-20, 1.2337787362500006e-20, 5.783869799999997e-21, 1.5230723625000009e-21, 0.0]\n",
      "[1.0, 0.9375, 0.75, 0.4375, 0.0]\n"
     ]
    }
   ],
   "source": [
    "core_profiles = IMAS.core_profiles();\n",
    "resize!(core_profiles.profiles_1d,1)\n",
    "profiles_1d = core_profiles.profiles_1d[1]\n",
    "\n",
    "profiles_1d.grid.rho_tor_norm = collect(range(0.0, 1.0, length=21))\n",
    "profiles_1d.electrons.density = (1.0 .- profiles_1d.grid.rho_tor_norm.^2);\n",
    "profiles_1d.electrons.temperature = (x;_...) -> (1.0 .- x.^2);\n",
    "\n",
    "println(profiles_1d.electrons.pressure)\n",
    "profiles_1d.grid.rho_tor_norm = collect(range(0.0, 1.0, length=5))\n",
    "println(profiles_1d.electrons.temperature)"
   ]
  },
  {
   "cell_type": "code",
   "execution_count": 9,
   "id": "45786c71-2a14-44c0-9f06-564172745ce8",
   "metadata": {},
   "outputs": [
    {
     "data": {
      "text/plain": [
       "3.99"
      ]
     },
     "execution_count": 9,
     "metadata": {},
     "output_type": "execute_result"
    }
   ],
   "source": [
    "time_slice = IMAS.equilibrium__time_slice()\n",
    "profiles_1d = time_slice.profiles_1d\n",
    "\n",
    "using ForwardDiff\n",
    "using Zygote\n",
    "\n",
    "n=11\n",
    "profiles_1d.psi = collect(range(0.0, 1.0, length=n))\n",
    "profiles_1d.pressure = p0 = collect(1.0.-range(0.0, 1.0, length=n).^2)\n",
    "profiles_1d.volume = collect(range(0.0, 1.0, length=n))\n",
    "\n",
    "function test_gradient(mul)\n",
    "    profiles_1d.pressure = profiles_1d.pressure.*mul.^2\n",
    "    sum(time_slice.global_quantities.energy_mhd)\n",
    "end\n",
    "\n",
    "#test_gradient(3)\n",
    "ForwardDiff.derivative(test_gradient, 2.0)\n",
    "#Zygote.gradient(test_gradient, 2.0)"
   ]
  },
  {
   "cell_type": "code",
   "execution_count": 10,
   "id": "8ad0397e-2de8-40bd-9d22-1ca9d8bdfe25",
   "metadata": {},
   "outputs": [
    {
     "data": {
      "text/plain": [
       "1.3415637860082306"
      ]
     },
     "execution_count": 10,
     "metadata": {},
     "output_type": "execute_result"
    }
   ],
   "source": [
    "using Trapz\n",
    "using ForwardDiff\n",
    "\n",
    "n=10\n",
    "function test(x)\n",
    "    a=convert(Vector{Real},collect(range(0,1,length=n)))\n",
    "    b=convert(Vector{Real},collect(range(0,1,length=n)).^2)\n",
    "    return trapz(a,b*x.^2)\n",
    "end\n",
    "\n",
    "test(1)\n",
    "\n",
    "ForwardDiff.derivative(test,2)"
   ]
  },
  {
   "cell_type": "code",
   "execution_count": 11,
   "id": "8c889078-625d-4cfb-a525-0fe79f1a604f",
   "metadata": {},
   "outputs": [
    {
     "name": "stdout",
     "output_type": "stream",
     "text": [
      "\u001b[0m\u001b[1mEQUILIBRIUM\u001b[22m\n",
      "\u001b[33m｜\u001b[39m\u001b[0m\u001b[1mtime_slice\u001b[22m\n",
      "\u001b[33m｜｜\u001b[39m\u001b[32m\u001b[1m[1]\u001b[22m\u001b[39m\n",
      "\u001b[33m｜｜｜\u001b[39m\u001b[0mtime\u001b[31m ➡ \u001b[39m\u001b[34mFloat64\u001b[39m\n",
      "\u001b[33m｜｜｜\u001b[39m\u001b[0m\u001b[1mprofiles_1d\u001b[22m\n",
      "\u001b[33m｜｜｜｜\u001b[39m\u001b[0mb_field_max\u001b[31m ➡ \u001b[39m\u001b[34m17-element Vector{Real}\u001b[39m\n",
      "\u001b[33m｜｜｜｜\u001b[39m\u001b[0mdvolume_drho_tor\u001b[31m ➡ \u001b[39m\u001b[34m17-element Vector{Real}\u001b[39m\n",
      "\u001b[33m｜｜｜｜\u001b[39m\u001b[0mgm9\u001b[31m ➡ \u001b[39m\u001b[34m17-element Vector{Real}\u001b[39m\n",
      "\u001b[33m｜｜｜｜\u001b[39m\u001b[0mdpsi_drho_tor\u001b[31m ➡ \u001b[39m\u001b[34m17-element Vector{Real}\u001b[39m\n",
      "\u001b[33m｜｜｜｜\u001b[39m\u001b[0msurface\u001b[31m ➡ \u001b[39m\u001b[34m17-element Vector{Real}\u001b[39m\n",
      "\u001b[33m｜｜｜｜\u001b[39m\u001b[0mrho_tor\u001b[31m ➡ \u001b[39m\u001b[34m17-element Vector{Real}\u001b[39m\n",
      "\u001b[33m｜｜｜｜\u001b[39m\u001b[0mb_field_min\u001b[31m ➡ \u001b[39m\u001b[34m17-element Vector{Real}\u001b[39m\n",
      "\u001b[33m｜｜｜｜\u001b[39m\u001b[0mdarea_dpsi\u001b[31m ➡ \u001b[39m\u001b[34m17-element Vector{Real}\u001b[39m\n",
      "\u001b[33m｜｜｜｜\u001b[39m\u001b[0msquareness_upper_inner\u001b[31m ➡ \u001b[39m\u001b[34m17-element Vector{Real}\u001b[39m\n",
      "\u001b[33m｜｜｜｜\u001b[39m\u001b[0msquareness_lower_inner\u001b[31m ➡ \u001b[39m\u001b[34m17-element Vector{Real}\u001b[39m\n",
      "\u001b[33m｜｜｜｜\u001b[39m\u001b[0mrho_tor_norm\u001b[31m ➡ \u001b[39m\u001b[34m17-element Vector{Real}\u001b[39m\n",
      "\u001b[33m｜｜｜｜\u001b[39m\u001b[0melongation\u001b[31m ➡ \u001b[39m\u001b[34m17-element Vector{Real}\u001b[39m\n",
      "\u001b[33m｜｜｜｜\u001b[39m\u001b[0mb_field_average\u001b[31m ➡ \u001b[39m\u001b[34m17-element Vector{Real}\u001b[39m\n",
      "\u001b[33m｜｜｜｜\u001b[39m\u001b[0mpsi\u001b[31m ➡ \u001b[39m\u001b[34m17-element Vector{Real}\u001b[39m\n",
      "\u001b[33m｜｜｜｜\u001b[39m\u001b[0mgm8\u001b[31m ➡ \u001b[39m\u001b[34m17-element Vector{Real}\u001b[39m\n",
      "\u001b[33m｜｜｜｜\u001b[39m\u001b[0mdpressure_dpsi\u001b[31m ➡ \u001b[39m\u001b[34m17-element Vector{Real}\u001b[39m\n",
      "\u001b[33m｜｜｜｜\u001b[39m\u001b[0mtriangularity_upper\u001b[31m ➡ \u001b[39m\u001b[34m17-element Vector{Real}\u001b[39m\n",
      "\u001b[33m｜｜｜｜\u001b[39m\u001b[0mdarea_drho_tor\u001b[31m ➡ \u001b[39m\u001b[34m17-element Vector{Real}\u001b[39m\n",
      "\u001b[33m｜｜｜｜\u001b[39m\u001b[0marea\u001b[31m ➡ \u001b[39m\u001b[34m17-element Vector{Real}\u001b[39m\n",
      "\u001b[33m｜｜｜｜\u001b[39m\u001b[0mtrapped_fraction\u001b[31m ➡ \u001b[39m\u001b[34m17-element Vector{Real}\u001b[39m\n",
      "\u001b[33m｜｜｜｜\u001b[39m\u001b[0mvolume\u001b[31m ➡ \u001b[39m\u001b[34m17-element Vector{Real}\u001b[39m\n",
      "\u001b[33m｜｜｜｜\u001b[39m\u001b[0mdvolume_dpsi\u001b[31m ➡ \u001b[39m\u001b[34m17-element Vector{Real}\u001b[39m\n",
      "\u001b[33m｜｜｜｜\u001b[39m\u001b[0mf\u001b[31m ➡ \u001b[39m\u001b[34m17-element Vector{Real}\u001b[39m\n",
      "\u001b[33m｜｜｜｜\u001b[39m\u001b[0mr_outboard\u001b[31m ➡ \u001b[39m\u001b[34m17-element Vector{Real}\u001b[39m\n",
      "\u001b[33m｜｜｜｜\u001b[39m\u001b[0mphi\u001b[31m ➡ \u001b[39m\u001b[34m17-element Vector{Real}\u001b[39m\n",
      "\u001b[33m｜｜｜｜\u001b[39m\u001b[0msquareness_lower_outer\u001b[31m ➡ \u001b[39m\u001b[34m17-element Vector{Real}\u001b[39m\n",
      "\u001b[33m｜｜｜｜\u001b[39m\u001b[0mtriangularity_lower\u001b[31m ➡ \u001b[39m\u001b[34m17-element Vector{Real}\u001b[39m\n",
      "\u001b[33m｜｜｜｜\u001b[39m\u001b[0mgm1\u001b[31m ➡ \u001b[39m\u001b[34m17-element Vector{Real}\u001b[39m\n",
      "\u001b[33m｜｜｜｜\u001b[39m\u001b[0mgm5\u001b[31m ➡ \u001b[39m\u001b[34m17-element Vector{Real}\u001b[39m\n",
      "\u001b[33m｜｜｜｜\u001b[39m\u001b[0mf_df_dpsi\u001b[31m ➡ \u001b[39m\u001b[34m17-element Vector{Real}\u001b[39m\n",
      "\u001b[33m｜｜｜｜\u001b[39m\u001b[0mj_tor\u001b[31m ➡ \u001b[39m\u001b[34m17-element Vector{Real}\u001b[39m\n",
      "\u001b[33m｜｜｜｜\u001b[39m\u001b[0mr_inboard\u001b[31m ➡ \u001b[39m\u001b[34m17-element Vector{Real}\u001b[39m\n",
      "\u001b[33m｜｜｜｜\u001b[39m\u001b[0mq\u001b[31m ➡ \u001b[39m\u001b[34m17-element Vector{Real}\u001b[39m\n",
      "\u001b[33m｜｜｜｜\u001b[39m\u001b[0mpressure\u001b[31m ➡ \u001b[39m\u001b[34m17-element Vector{Real}\u001b[39m\n",
      "\u001b[33m｜｜｜｜\u001b[39m\u001b[0msquareness_upper_outer\u001b[31m ➡ \u001b[39m\u001b[34m17-element Vector{Real}\u001b[39m\n",
      "\u001b[33m｜｜｜｜\u001b[39m\u001b[0m\u001b[1mgeometric_axis\u001b[22m\n",
      "\u001b[33m｜｜｜｜｜\u001b[39m\u001b[0mr\u001b[31m ➡ \u001b[39m\u001b[34m17-element Vector{Real}\u001b[39m\n",
      "\u001b[33m｜｜｜｜｜\u001b[39m\u001b[0mz\u001b[31m ➡ \u001b[39m\u001b[34m17-element Vector{Real}\u001b[39m\n",
      "\u001b[33m｜｜｜\u001b[39m\u001b[0m\u001b[1mboundary\u001b[22m\n",
      "\u001b[33m｜｜｜｜\u001b[39m\u001b[0m\u001b[1moutline\u001b[22m\n",
      "\u001b[33m｜｜｜｜｜\u001b[39m\u001b[0mr\u001b[31m ➡ \u001b[39m\u001b[34m89-element Vector{Real}\u001b[39m\n",
      "\u001b[33m｜｜｜｜｜\u001b[39m\u001b[0mz\u001b[31m ➡ \u001b[39m\u001b[34m89-element Vector{Real}\u001b[39m\n",
      "\u001b[33m｜｜｜\u001b[39m\u001b[0m\u001b[1mglobal_quantities\u001b[22m\n",
      "\u001b[33m｜｜｜｜\u001b[39m\u001b[0mip\u001b[31m ➡ \u001b[39m\u001b[34mFloat64\u001b[39m\n",
      "\u001b[33m｜｜｜｜\u001b[39m\u001b[0mbeta_tor\u001b[31m ➡ \u001b[39m\u001b[34mFloat64\u001b[39m\n",
      "\u001b[33m｜｜｜｜\u001b[39m\u001b[0m\u001b[1mmagnetic_axis\u001b[22m\n",
      "\u001b[33m｜｜｜｜｜\u001b[39m\u001b[0mb_field_tor\u001b[31m ➡ \u001b[39m\u001b[34mFloat64\u001b[39m\n",
      "\u001b[33m｜｜｜｜｜\u001b[39m\u001b[0mr\u001b[31m ➡ \u001b[39m\u001b[34mFloat64\u001b[39m\n",
      "\u001b[33m｜｜｜｜｜\u001b[39m\u001b[0mz\u001b[31m ➡ \u001b[39m\u001b[34mFloat64\u001b[39m\n",
      "\u001b[33m｜｜｜｜\u001b[39m\u001b[0menergy_mhd\u001b[31m ➡ \u001b[39m\u001b[34mIMAS.var\"#10#12\"\u001b[39m\n",
      "\u001b[33m｜｜｜｜\u001b[39m\u001b[0mpsi_boundary\u001b[31m ➡ \u001b[39m\u001b[34mFloat64\u001b[39m\n",
      "\u001b[33m｜｜｜｜\u001b[39m\u001b[0mq_95\u001b[31m ➡ \u001b[39m\u001b[34mFloat64\u001b[39m\n",
      "\u001b[33m｜｜｜｜\u001b[39m\u001b[0mq_axis\u001b[31m ➡ \u001b[39m\u001b[34mFloat64\u001b[39m\n",
      "\u001b[33m｜｜｜｜\u001b[39m\u001b[0mpsi_axis\u001b[31m ➡ \u001b[39m\u001b[34mFloat64\u001b[39m\n",
      "\u001b[33m｜｜｜｜\u001b[39m\u001b[0mbeta_normal\u001b[31m ➡ \u001b[39m\u001b[34mFloat64\u001b[39m\n",
      "\u001b[33m｜｜｜｜\u001b[39m\u001b[0m\u001b[1mq_min\u001b[22m\n",
      "\u001b[33m｜｜｜｜｜\u001b[39m\u001b[0mvalue\u001b[31m ➡ \u001b[39m\u001b[34mFloat64\u001b[39m\n",
      "\u001b[33m｜｜｜｜｜\u001b[39m\u001b[0mrho_tor_norm\u001b[31m ➡ \u001b[39m\u001b[34mFloat64\u001b[39m\n",
      "\u001b[33m｜｜｜\u001b[39m\u001b[0m\u001b[1mprofiles_2d\u001b[22m\n",
      "\u001b[33m｜｜｜｜\u001b[39m\u001b[32m\u001b[1m[1]\u001b[22m\u001b[39m\n",
      "\u001b[33m｜｜｜｜｜\u001b[39m\u001b[0mpsi\u001b[31m ➡ \u001b[39m\u001b[34m17×17 Matrix{Real}\u001b[39m\n",
      "\u001b[33m｜｜｜｜｜\u001b[39m\u001b[0mphi\u001b[31m ➡ \u001b[39m\u001b[34m17×17 Matrix{Real}\u001b[39m\n",
      "\u001b[33m｜｜｜｜｜\u001b[39m\u001b[0mb_field_tor\u001b[31m ➡ \u001b[39m\u001b[34m17×17 Matrix{Real}\u001b[39m\n",
      "\u001b[33m｜｜｜｜｜\u001b[39m\u001b[0m\u001b[1mgrid\u001b[22m\n",
      "\u001b[33m｜｜｜｜｜｜\u001b[39m\u001b[0mdim2\u001b[31m ➡ \u001b[39m\u001b[34m17-element Vector{Real}\u001b[39m\n",
      "\u001b[33m｜｜｜｜｜｜\u001b[39m\u001b[0mdim1\u001b[31m ➡ \u001b[39m\u001b[34m17-element Vector{Real}\u001b[39m\n",
      "\u001b[33m｜｜｜｜｜\u001b[39m\u001b[0m\u001b[1mgrid_type\u001b[22m\n",
      "\u001b[33m｜｜｜｜｜｜\u001b[39m\u001b[0mindex\u001b[31m ➡ \u001b[39m\u001b[34mInt64\u001b[39m\n",
      "\u001b[33m｜\u001b[39m\u001b[0mtime\u001b[31m ➡ \u001b[39m\u001b[34m1-element Vector{Real}\u001b[39m\n",
      "\u001b[33m｜\u001b[39m\u001b[0m\u001b[1mids_properties\u001b[22m\n",
      "\u001b[33m｜｜\u001b[39m\u001b[0mcomment\u001b[31m ➡ \u001b[39m\u001b[34m8-codeunit String\u001b[39m\n",
      "\u001b[33m｜\u001b[39m\u001b[0m\u001b[1mvacuum_toroidal_field\u001b[22m\n",
      "\u001b[33m｜｜\u001b[39m\u001b[0mb0\u001b[31m ➡ \u001b[39m\u001b[34m1-element Vector{Real}\u001b[39m\n",
      "\u001b[33m｜｜\u001b[39m\u001b[0mr0\u001b[31m ➡ \u001b[39m\u001b[34mFloat64\u001b[39m\n",
      "\n",
      "\u001b[0m\u001b[1mWALL\u001b[22m\n",
      "\u001b[33m｜\u001b[39m\u001b[0m\u001b[1mdescription_2d\u001b[22m\n",
      "\u001b[33m｜｜\u001b[39m\u001b[32m\u001b[1m[1]\u001b[22m\u001b[39m\n",
      "\u001b[33m｜｜｜\u001b[39m\u001b[0m\u001b[1mlimiter\u001b[22m\n",
      "\u001b[33m｜｜｜｜\u001b[39m\u001b[0m\u001b[1mtype\u001b[22m\n",
      "\u001b[33m｜｜｜｜｜\u001b[39m\u001b[0mname\u001b[31m ➡ \u001b[39m\u001b[34m10-codeunit String\u001b[39m\n",
      "\u001b[33m｜｜｜｜｜\u001b[39m\u001b[0mdescription\u001b[31m ➡ \u001b[39m\u001b[34m10-codeunit String\u001b[39m\n",
      "\u001b[33m｜｜｜｜｜\u001b[39m\u001b[0mindex\u001b[31m ➡ \u001b[39m\u001b[34mInt64\u001b[39m\n",
      "\u001b[33m｜｜｜｜\u001b[39m\u001b[0m\u001b[1munit\u001b[22m\n",
      "\u001b[33m｜｜｜｜｜\u001b[39m\u001b[32m\u001b[1m[1]\u001b[22m\u001b[39m\n",
      "\u001b[33m｜｜｜｜｜｜\u001b[39m\u001b[0m\u001b[1moutline\u001b[22m\n",
      "\u001b[33m｜｜｜｜｜｜｜\u001b[39m\u001b[0mr\u001b[31m ➡ \u001b[39m\u001b[34m86-element Vector{Real}\u001b[39m\n",
      "\u001b[33m｜｜｜｜｜｜｜\u001b[39m\u001b[0mz\u001b[31m ➡ \u001b[39m\u001b[34m86-element Vector{Real}\u001b[39m\n",
      "\n",
      "\u001b[0m\u001b[1mDATASET_DESCRIPTION\u001b[22m\n",
      "\u001b[33m｜\u001b[39m\u001b[0m\u001b[1mdata_entry\u001b[22m\n",
      "\u001b[33m｜｜\u001b[39m"
     ]
    },
    {
     "data": {
      "text/plain": []
     },
     "execution_count": 11,
     "metadata": {},
     "output_type": "execute_result"
    },
    {
     "name": "stdout",
     "output_type": "stream",
     "text": [
      "\u001b[0mpulse\u001b[31m ➡ \u001b[39m\u001b[34mInt64\u001b[39m\n"
     ]
    }
   ],
   "source": [
    "filename = joinpath(dirname(dirname(abspath(@__FILE__))), \"sample\", \"sample_equilibrium_ods.json\")\n",
    "data  = IMAS.json2imas(filename; verbose=false)"
   ]
  },
  {
   "cell_type": "code",
   "execution_count": 26,
   "id": "b634de0d-b24f-4396-800d-e0d6c244725e",
   "metadata": {},
   "outputs": [],
   "source": [
    "Base.ndims(data::Array{T,N} where T <: Real where N<:Integer) = data.N\n"
   ]
  }
 ],
 "metadata": {
  "kernelspec": {
   "display_name": "Julia 1.6.0",
   "language": "julia",
   "name": "julia-1.6"
  },
  "language_info": {
   "file_extension": ".jl",
   "mimetype": "application/julia",
   "name": "julia",
   "version": "1.6.0"
  }
 },
 "nbformat": 4,
 "nbformat_minor": 5
}
