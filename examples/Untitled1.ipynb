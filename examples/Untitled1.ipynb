{
 "cells": [
  {
   "cell_type": "code",
   "execution_count": 2,
   "id": "ff431d97-b540-46dd-ab1f-0dc976113be8",
   "metadata": {},
   "outputs": [
    {
     "name": "stderr",
     "output_type": "stream",
     "text": [
      "\u001b[32m\u001b[1m  Activating\u001b[22m\u001b[39m environment at `~/.julia/dev/FUSE/Project.toml`\n"
     ]
    }
   ],
   "source": [
    "using Pkg\n",
    "Pkg.activate(\"..\")\n",
    "using Revise\n",
    "using FUSE"
   ]
  },
  {
   "cell_type": "code",
   "execution_count": 3,
   "id": "806f9431-4c66-4fc6-8760-54c6498b5e72",
   "metadata": {},
   "outputs": [
    {
     "data": {
      "text/plain": [
       "0.9975"
      ]
     },
     "execution_count": 3,
     "metadata": {},
     "output_type": "execute_result"
    }
   ],
   "source": [
    "time_slice = FUSE.equilibrium__time_slice()\n",
    "profiles_1d = time_slice.profiles_1d\n",
    "\n",
    "n=11\n",
    "profiles_1d.psi = collect(range(0.0, 1.0, length=n))\n",
    "profiles_1d.pressure = collect(1.0.-range(0.0, 1.0, length=n).^2)\n",
    "profiles_1d.volume = collect(range(0.0, 1.0, length=n))\n",
    "time_slice.global_quantities.energy_mhd"
   ]
  },
  {
   "cell_type": "code",
   "execution_count": 4,
   "id": "3aaf03eb-1049-4600-aa00-fbd646a2e0f7",
   "metadata": {},
   "outputs": [
    {
     "name": "stdout",
     "output_type": "stream",
     "text": [
      "[1.60218e-19, 1.594179113625e-19, 1.570296618e-19, 1.5308930036250002e-19, 1.476569088e-19, 1.408166015625e-19, 1.326765258e-19, 1.2336886136250001e-19, 1.1304982079999998e-19, 1.018996493625e-19, 9.0122625e-20, 7.79470583625e-20, 6.56252928e-20, 5.343370436249998e-20, 4.16727018e-20, 3.06667265625e-20, 2.0764252799999985e-20, 1.2337787362500006e-20, 5.783869799999997e-21, 1.5230723625000009e-21, 0.0]\n",
      "[1.0, 0.9375, 0.75, 0.4375, 0.0]\n"
     ]
    }
   ],
   "source": [
    "core_profiles = FUSE.core_profiles();\n",
    "resize!(core_profiles.profiles_1d,1)\n",
    "profiles_1d = core_profiles.profiles_1d[1]\n",
    "\n",
    "profiles_1d.grid.rho_tor_norm = collect(range(0.0, 1.0, length=21))\n",
    "profiles_1d.electrons.density = (1.0 .- profiles_1d.grid.rho_tor_norm.^2);\n",
    "profiles_1d.electrons.temperature = (x;_...) -> (1.0 .- x.^2);\n",
    "\n",
    "println(profiles_1d.electrons.pressure)\n",
    "profiles_1d.grid.rho_tor_norm = collect(range(0.0, 1.0, length=5))\n",
    "println(profiles_1d.electrons.temperature)"
   ]
  },
  {
   "cell_type": "code",
   "execution_count": 7,
   "id": "45786c71-2a14-44c0-9f06-564172745ce8",
   "metadata": {},
   "outputs": [
    {
     "ename": "LoadError",
     "evalue": "SystemError: opening file \"/Users/meneghini/.julia/dev/FUSE/data_structures/[:].json\": No such file or directory",
     "output_type": "error",
     "traceback": [
      "SystemError: opening file \"/Users/meneghini/.julia/dev/FUSE/data_structures/[:].json\": No such file or directory",
      "",
      "Stacktrace:",
      "  [1] systemerror(p::String, errno::Int32; extrainfo::Nothing)",
      "    @ Base ./error.jl:168",
      "  [2] #systemerror#62",
      "    @ ./error.jl:167 [inlined]",
      "  [3] systemerror",
      "    @ ./error.jl:167 [inlined]",
      "  [4] open(fname::String; lock::Bool, read::Nothing, write::Nothing, create::Nothing, truncate::Nothing, append::Nothing)",
      "    @ Base ./iostream.jl:293",
      "  [5] open",
      "    @ ./iostream.jl:282 [inlined]",
      "  [6] open(f::JSON.Parser.var\"#4#5\"{DataType, DataType, Nothing, Bool, Bool, Int64}, args::String; kwargs::Base.Iterators.Pairs{Union{}, Union{}, Tuple{}, NamedTuple{(), Tuple{}}})",
      "    @ Base ./io.jl:328",
      "  [7] macro expansion",
      "    @ ~/.julia/packages/Zygote/6HN9x/src/compiler/interface2.jl:0 [inlined]",
      "  [8] _pullback",
      "    @ ~/.julia/packages/Zygote/6HN9x/src/compiler/interface2.jl:9 [inlined]",
      "  [9] _apply",
      "    @ ./boot.jl:804 [inlined]",
      " [10] adjoint",
      "    @ ~/.julia/packages/Zygote/6HN9x/src/lib/lib.jl:191 [inlined]",
      " [11] _pullback",
      "    @ ~/.julia/packages/ZygoteRules/OjfTt/src/adjoint.jl:57 [inlined]",
      " [12] _pullback",
      "    @ ./io.jl:328 [inlined]",
      " [13] _pullback(::Zygote.Context, ::typeof(open), ::JSON.Parser.var\"#4#5\"{DataType, DataType, Nothing, Bool, Bool, Int64}, ::String)",
      "    @ Zygote ~/.julia/packages/Zygote/6HN9x/src/compiler/interface2.jl:0",
      " [14] _pullback",
      "    @ ~/.julia/packages/JSON/3rsiS/src/Parser.jl:519 [inlined]",
      " [15] _pullback(::Zygote.Context, ::JSON.Parser.var\"##parsefile#3\", ::Type{Dict{String, Any}}, ::Type{Int64}, ::Nothing, ::Bool, ::Bool, ::typeof(JSON.Parser.parsefile), ::String)",
      "    @ Zygote ~/.julia/packages/Zygote/6HN9x/src/compiler/interface2.jl:0",
      " [16] _pullback",
      "    @ ~/.julia/packages/JSON/3rsiS/src/Parser.jl:518 [inlined]",
      " [17] _pullback(ctx::Zygote.Context, f::typeof(JSON.Parser.parsefile), args::String)",
      "    @ Zygote ~/.julia/packages/Zygote/6HN9x/src/compiler/interface2.jl:0",
      " [18] _pullback",
      "    @ ~/.julia/dev/FUSE/src/functionarrays.jl:16 [inlined]",
      " [19] _pullback(ctx::Zygote.Context, f::FUSE.var\"###imas_load_dd_unmemoized\", args::SubString{String})",
      "    @ Zygote ~/.julia/packages/Zygote/6HN9x/src/compiler/interface2.jl:0",
      " [20] _pullback",
      "    @ ~/.julia/packages/Memoize/12ANR/src/Memoize.jl:62 [inlined]",
      " [21] _pullback(::Zygote.Context, ::FUSE.var\"#13#14\"{SubString{String}})",
      "    @ Zygote ~/.julia/packages/Zygote/6HN9x/src/compiler/interface2.jl:0",
      " [22] _pullback",
      "    @ ./iddict.jl:163 [inlined]",
      " [23] _pullback(::Zygote.Context, ::typeof(get!), ::FUSE.var\"#13#14\"{SubString{String}}, ::IdDict{Any, Any}, ::Tuple{SubString{String}})",
      "    @ Zygote ~/.julia/packages/Zygote/6HN9x/src/compiler/interface2.jl:0",
      " [24] _pullback",
      "    @ ~/.julia/packages/Memoize/12ANR/src/Memoize.jl:61 [inlined]",
      " [25] _pullback(ctx::Zygote.Context, f::typeof(FUSE.imas_load_dd), args::SubString{String})",
      "    @ Zygote ~/.julia/packages/Zygote/6HN9x/src/compiler/interface2.jl:0",
      " [26] _pullback",
      "    @ ~/.julia/dev/FUSE/src/functionarrays.jl:27 [inlined]",
      " [27] _pullback(ctx::Zygote.Context, f::typeof(FUSE.imas_info), args::String)",
      "    @ Zygote ~/.julia/packages/Zygote/6HN9x/src/compiler/interface2.jl:0",
      " [28] _pullback",
      "    @ ~/.julia/dev/FUSE/src/data.jl:172 [inlined]",
      " [29] _pullback(::Zygote.Context, ::typeof(coordinates), ::FUSE.equilibrium__time_slice___profiles_1d, ::Symbol)",
      "    @ Zygote ~/.julia/packages/Zygote/6HN9x/src/compiler/interface2.jl:0",
      " [30] _pullback",
      "    @ ~/.julia/dev/FUSE/src/functionarrays.jl:77 [inlined]",
      " [31] _pullback(::Zygote.Context, ::FUSE.var\"##setproperty!#15\", ::Bool, ::typeof(setproperty!), ::FUSE.equilibrium__time_slice___profiles_1d, ::Symbol, ::Vector{ForwardDiff.Dual{ForwardDiff.Tag{typeof(test_gradient), Float64}, Float64, 1}})",
      "    @ Zygote ~/.julia/packages/Zygote/6HN9x/src/compiler/interface2.jl:0",
      " [32] _pullback",
      "    @ ~/.julia/dev/FUSE/src/functionarrays.jl:69 [inlined]",
      " [33] _pullback(::Zygote.Context, ::typeof(setproperty!), ::FUSE.equilibrium__time_slice___profiles_1d, ::Symbol, ::Vector{ForwardDiff.Dual{ForwardDiff.Tag{typeof(test_gradient), Float64}, Float64, 1}})",
      "    @ Zygote ~/.julia/packages/Zygote/6HN9x/src/compiler/interface2.jl:0",
      " [34] _pullback",
      "    @ ./In[7]:13 [inlined]",
      " [35] _pullback(ctx::Zygote.Context, f::typeof(test_gradient), args::Float64)",
      "    @ Zygote ~/.julia/packages/Zygote/6HN9x/src/compiler/interface2.jl:0",
      " [36] _pullback(f::Function, args::Float64)",
      "    @ Zygote ~/.julia/packages/Zygote/6HN9x/src/compiler/interface.jl:34",
      " [37] pullback(f::Function, args::Float64)",
      "    @ Zygote ~/.julia/packages/Zygote/6HN9x/src/compiler/interface.jl:40",
      " [38] gradient(f::Function, args::Float64)",
      "    @ Zygote ~/.julia/packages/Zygote/6HN9x/src/compiler/interface.jl:58",
      " [39] top-level scope",
      "    @ In[7]:19",
      " [40] eval",
      "    @ ./boot.jl:360 [inlined]",
      " [41] include_string(mapexpr::typeof(REPL.softscope), mod::Module, code::String, filename::String)",
      "    @ Base ./loading.jl:1094"
     ]
    }
   ],
   "source": [
    "time_slice = FUSE.equilibrium__time_slice()\n",
    "profiles_1d = time_slice.profiles_1d\n",
    "\n",
    "using ForwardDiff\n",
    "using Zygote\n",
    "\n",
    "n=11\n",
    "profiles_1d.psi = collect(range(0.0, 1.0, length=n))\n",
    "profiles_1d.pressure = p0 = collect(1.0.-range(0.0, 1.0, length=n).^2)\n",
    "profiles_1d.volume = collect(range(0.0, 1.0, length=n))\n",
    "\n",
    "function test_gradient(mul)\n",
    "    profiles_1d.pressure = profiles_1d.pressure.*mul.^2\n",
    "    sum(time_slice.global_quantities.energy_mhd)\n",
    "end\n",
    "\n",
    "#test_gradient(3)\n",
    "ForwardDiff.derivative(test_gradient, 2.0)\n",
    "Zygote.gradient(test_gradient, 2.0)"
   ]
  },
  {
   "cell_type": "code",
   "execution_count": 6,
   "id": "8ad0397e-2de8-40bd-9d22-1ca9d8bdfe25",
   "metadata": {},
   "outputs": [
    {
     "data": {
      "text/plain": [
       "1.3415637860082306"
      ]
     },
     "execution_count": 6,
     "metadata": {},
     "output_type": "execute_result"
    }
   ],
   "source": [
    "using Trapz\n",
    "using ForwardDiff\n",
    "\n",
    "n=10\n",
    "function test(x)\n",
    "    a=convert(Vector{Real},collect(range(0,1,length=n)))\n",
    "    b=convert(Vector{Real},collect(range(0,1,length=n)).^2)\n",
    "    return trapz(a,b*x.^2)\n",
    "end\n",
    "\n",
    "test(1)\n",
    "\n",
    "ForwardDiff.derivative(test,2)"
   ]
  },
  {
   "cell_type": "code",
   "execution_count": 30,
   "id": "8c889078-625d-4cfb-a525-0fe79f1a604f",
   "metadata": {},
   "outputs": [
    {
     "ename": "LoadError",
     "evalue": "Assign data to `equilibrium.time_slice[:].profiles_2d[:].grid.dim1` before assigning `equilibrium.time_slice[:].profiles_2d[:].psi`",
     "output_type": "error",
     "traceback": [
      "Assign data to `equilibrium.time_slice[:].profiles_2d[:].grid.dim1` before assigning `equilibrium.time_slice[:].profiles_2d[:].psi`",
      "",
      "Stacktrace:",
      " [1] error(s::String)",
      "   @ Base ./error.jl:33",
      " [2] setproperty!(fds::FUSE.equilibrium__time_slice___profiles_2d, field::Symbol, v::Matrix{Real}; skip_non_coordinates::Bool)",
      "   @ FUSE ~/.julia/dev/FUSE/src/functionarrays.jl:78",
      " [3] dict2fuse(dct::Dict{String, Any}, fds::FUSE.equilibrium__time_slice___profiles_2d; verbose::Bool, path::Vector{String}, skip_non_coordinates::Bool)",
      "   @ FUSE ~/.julia/dev/FUSE/src/data.jl:69",
      " [4] dict2fuse(dct::Dict{String, Any}, fds::FUSE.equilibrium__time_slice; verbose::Bool, path::Vector{String}, skip_non_coordinates::Bool) (repeats 2 times)",
      "   @ FUSE ~/.julia/dev/FUSE/src/data.jl:56",
      " [5] dict2fuse(dct::Dict{String, Any}, fds::dd; verbose::Bool, path::Vector{String}, skip_non_coordinates::Bool)",
      "   @ FUSE ~/.julia/dev/FUSE/src/data.jl:47",
      " [6] json2fuse(filename::String; verbose::Bool)",
      "   @ FUSE ~/.julia/dev/FUSE/src/data.jl:93",
      " [7] top-level scope",
      "   @ In[30]:2",
      " [8] eval",
      "   @ ./boot.jl:360 [inlined]",
      " [9] include_string(mapexpr::typeof(REPL.softscope), mod::Module, code::String, filename::String)",
      "   @ Base ./loading.jl:1094"
     ]
    }
   ],
   "source": [
    "filename = joinpath(dirname(dirname(abspath(@__FILE__))), \"sample\", \"sample_equilibrium_ods.json\")\n",
    "data  = FUSE.json2fuse(filename; verbose=false)"
   ]
  },
  {
   "cell_type": "code",
   "execution_count": 26,
   "id": "b634de0d-b24f-4396-800d-e0d6c244725e",
   "metadata": {},
   "outputs": [],
   "source": [
    "Base.ndims(data::Array{T,N} where T <: Real where N<:Integer) = data.N\n"
   ]
  }
 ],
 "metadata": {
  "kernelspec": {
   "display_name": "Julia 1.6.0",
   "language": "julia",
   "name": "julia-1.6"
  },
  "language_info": {
   "file_extension": ".jl",
   "mimetype": "application/julia",
   "name": "julia",
   "version": "1.6.0"
  }
 },
 "nbformat": 4,
 "nbformat_minor": 5
}
