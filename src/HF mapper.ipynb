{
 "cells": [
  {
   "cell_type": "code",
   "execution_count": null,
   "metadata": {},
   "outputs": [],
   "source": [
    "using Plots; gr()\n",
    "using FUSE\n",
    "using OrderedCollections\n",
    "include(\"hf_mapper.jl\")"
   ]
  },
  {
   "cell_type": "code",
   "execution_count": null,
   "metadata": {},
   "outputs": [],
   "source": [
    "# FUSE.logging(Logging.Info; actors=Logging.Info);\n",
    "dd = IMAS.dd();\n",
    "# ini, act = FUSE.case_parameters(:ITER, init_from = :ods) # ok\n",
    "# ini, act = FUSE.case_parameters(:ITER, init_from = :scalars) # ok\n",
    "# ini, act = FUSE.case_parameters(:FPP) # ok\n",
    "# ini, act = FUSE.case_parameters(:DTT) # ok\n",
    "ini, act = FUSE.case_parameters(:D3D) # ok\n",
    "# ini, act = FUSE.case_parameters(:KDEMO) # ok\n",
    "# ini, act = FUSE.case_parameters(:ARC) # ok \n",
    "# ini, act = FUSE.case_parameters(:SPARC) # ok\n",
    "# ini, act = FUSE.case_parameters(:STEP) # ok\n",
    "dd = FUSE.init(ini,act);\n",
    "# FUSE.digest(dd);\n",
    "1;"
   ]
  },
  {
   "cell_type": "code",
   "execution_count": null,
   "metadata": {},
   "outputs": [],
   "source": [
    "RA = dd.equilibrium.time_slice[].global_quantities.magnetic_axis.r\n",
    "ZA = dd.equilibrium.time_slice[].global_quantities.magnetic_axis.z\n",
    "# wall_r = IMAS.first_wall(dd.wall).r\n",
    "# wall_z = IMAS.first_wall(dd.wall).z\n",
    "# dd.wall.description_2d[1].limiter.unit[1].outline.r = [maximum(wall_r), maximum(wall_r), minimum(wall_r), minimum(wall_r), maximum(wall_r), maximum(wall_r)]\n",
    "# dd.wall.description_2d[1].limiter.unit[1].outline.z = [ZA, minimum(wall_z),minimum(wall_z),maximum(wall_z),maximum(wall_z),ZA]\n",
    "# # FUSE.wall_from_eq!(dd.wall, dd.equilibrium.time_slice[], 0.1; upper_divertor = false, lower_divertor = true )\n",
    "# display(plot(dd.wall))\n",
    "wall_r = IMAS.first_wall(dd.wall).r\n",
    "wall_z = IMAS.first_wall(dd.wall).z\n",
    "\n",
    "1\n"
   ]
  },
  {
   "cell_type": "code",
   "execution_count": null,
   "metadata": {},
   "outputs": [],
   "source": [
    "# define q(r), but could be arbitrary. Here double exponential\n",
    "R0 = dd.equilibrium.time_slice[].boundary.geometric_axis.r # R magentic axis \n",
    "a = dd.equilibrium.time_slice[].boundary.minor_radius      # minor radius\n",
    "l = 0.003 # decay length of first exponential\n",
    "l2 = 0.1  # decay length of second exponential\n",
    "frac = 0.2 # fraction of power flowing in the second esponential\n",
    "N = 2 # imbalance factor (in/out)  1 < N < 2\n",
    "Bt_omp = dd.equilibrium.time_slice[].global_quantities.vacuum_toroidal_field.b0*R0/(R0+a)\n",
    "\n",
    "r = collect(LinRange(0,6*maximum([l,l2]),10000)) # Ideally: from 0 to r max grid - r_separatrix_OMP\n",
    "# double exponential\n",
    "q = IMAS.power_sol(dd)     /2/N/π/(R0+a)/l /sin(atan(IMAS.Bpol_omp(dd.equilibrium.time_slice[])/abs(Bt_omp)))*exp.(-r./l)+\n",
    "    IMAS.power_sol(dd)*frac/2/N/π/(R0+a)/l2/sin(atan(IMAS.Bpol_omp(dd.equilibrium.time_slice[])/abs(Bt_omp)))*exp.(-r./l2);\n",
    "\n",
    "plot(r,log10.(q))\n",
    "plot!(ylabel = \"log₁₀(q)\", xlabel = \"r - rₛₑₚ\")\n",
    "plot!(legend = :none)"
   ]
  },
  {
   "cell_type": "code",
   "execution_count": null,
   "metadata": {},
   "outputs": [],
   "source": [
    "# stagger wall\n",
    "# dd.wall.description_2d[1].limiter.unit[1].outline.z = dd.wall.description_2d[1].limiter.unit[1].outline.z .+ 0.3\n",
    "# dd.wall.description_2d[1].limiter.unit[1].outline.z = dd.wall.description_2d[1].limiter.unit[1].outline.z .- 0.4\n",
    "1\n"
   ]
  },
  {
   "cell_type": "code",
   "execution_count": null,
   "metadata": {},
   "outputs": [],
   "source": [
    "levels = 20\n",
    "psi_levels, R, p_levels  =  IMAS.find_levels_from_P(dd,r,q,levels) # find psi_levels to discretize properly q(r)\n",
    "@show p_levels\n",
    "add_psi =  IMAS.find_levels_from_wall(dd) # add psi of the points in the wall\n",
    "# @show add_psi\n",
    "psi_levels = unique!(sort!(vcat(psi_levels, add_psi)))\n",
    "# display(psi_levels)\n",
    "\n",
    "SOL = IMAS.sol(dd, levels = psi_levels); # Build SOL with the chosen psi\n",
    "\n",
    "plot(dd.wall, lw=1)\n",
    "plot!(SOL)\n",
    "# plot!(SOL[:lfs_far][end])\n",
    "plot!(legend = :none)\n",
    "plot!(xlim = (minimum(wall_r)*0.9, maximum(wall_r)*1.1))\n",
    "# plot!(ylim = (-5,5))\n",
    "# plot!(ylim = (0.5,1), xlim = (8,8.5))\n",
    "# surfaces, _ = IMAS.flux_surface(dd.equilibrium.time_slice[],14.1147162341807925, :open)\n",
    "# plot!(dd.equilibrium.time_slice[].profiles_2d)\n",
    "# for surface in surfaces\n",
    "# plot!(surface, color = :black)\n",
    "# end\n",
    "# surfaces, _ = IMAS.flux_surface(dd.equilibrium.time_slice[],2.9491989681605846, :open)\n",
    "# for surface in surfaces\n",
    "# plot!(surface, color = :black)\n",
    "# end\n",
    "\n",
    "# length(surfaces)\n",
    "\n",
    "\n"
   ]
  },
  {
   "cell_type": "code",
   "execution_count": null,
   "metadata": {},
   "outputs": [],
   "source": [
    "\n",
    "_, _, PSI_interpolant = IMAS.ψ_interpolant(dd.equilibrium.time_slice[].profiles_2d)\n",
    "psi_low, psi_up = IMAS.find_psi_tangent_omp(dd.equilibrium.time_slice[],wall_r,wall_z,PSI_interpolant)\n",
    "_, psi_sep = IMAS.find_psi_boundary(dd.equilibrium.time_slice[])\n",
    "psi_2nd  =  IMAS.find_psi_2nd_separatrix(dd)\n",
    "psi_last_diverted = IMAS.find_psi_last_diverted(dd)\n",
    "\n",
    "\n",
    "plot(dd.wall, lw=1)\n",
    "# plot!([8.142406627710745, 6.38759043904455, 6.578835273420422, 6.770080107796293, 6.9613249421721655, 7.116071319012841, 7.2606703401688275, 7.405269361324812, 7.5498683824808, 7.694467403636786, 7.839066424792772, 7.983665445948757, 8.128264467104746, 8.142406627710745, 8.272175866772006, 8.336620923584087, 8.354618054249304, 8.372615184914519, 8.390612315579736, 8.392909207612265, 8.392909207612265, 8.392909207612263, 8.392909207612263, 8.392909207612265, 8.392909207612265, 8.392909207612263, 8.3186157547294, 8.234999198891499, 8.1513826430536, 8.0677660872157, 7.984149531377801, 7.9005329755399, 7.816916419702, 7.67195658445048, 7.494785035246251, 7.3176134860420206, 7.1404419368377905, 6.96327038763356, 6.786098838429332, 8.392909207612265],\n",
    "# [-10.0, -3.007970116041419, -2.859641465933984, -2.711312815826552, -2.5629841657191172, -2.3776793089496606, -2.1835991755024704, -1.9895190420552828, -1.7954389086080924, -1.601358775160905, -1.4072786417137146, -1.2131985082665273, -1.019118374819337, -1.0, -0.8245687472011171, -0.5951433746800361, -0.3537887012097112, -0.11243402773938653, 0.12892064573093814, 0.3708598688073396, 0.6128846095223088, 0.8549093502372795, 0.8549093502372795, 1.0, 1.0969340909522487, 1.3389588316672176, 1.5677421562860026, 1.7948638124704255, 2.0219854686548486, 2.249107124839272, 2.4762287810236954, 2.7033504372081176, 2.930472093392541, 3.12066975138505, 3.2855521860793533, 3.450434620773657, 3.61531705546796, 3.7801994901622638, 3.9450819248565674, 10.0],\n",
    "# color = :green)\n",
    "plot!(legend = :none)\n",
    "# plot!(ylim = (2,3.5), xlim = (7,8))\n",
    "\n",
    "surfaces, _ = IMAS.flux_surface(dd.equilibrium.time_slice[],psi_low, :open)\n",
    "for surface in surfaces\n",
    "plot!(surface, color = :red)\n",
    "end\n",
    "surfaces, _ = IMAS.flux_surface(dd.equilibrium.time_slice[],psi_sep, :open)\n",
    "for surface in surfaces\n",
    "plot!(surface, color = :black)\n",
    "end\n",
    "# surfaces, _ = IMAS.flux_surface(dd.equilibrium.time_slice[],psi_2nd, :open)\n",
    "# for surface in surfaces\n",
    "# plot!(surface, color = :blue)\n",
    "# end\n",
    "# surfaces, _ = IMAS.flux_surface(dd.equilibrium.time_slice[],psi_last_diverted[1], :open)\n",
    "# for surface in surfaces\n",
    "# plot!(surface, color = :darkorange)\n",
    "# end\n",
    "# surfaces, _ = IMAS.flux_surface(dd.equilibrium.time_slice[],11.834792365178698, :open)\n",
    "# for surface in surfaces\n",
    "# plot!(surface, color = :red)\n",
    "# end\n",
    "plot!([0, maximum(wall_r)*1.1], [1, 1]*ZA, ls = :dash, color = :grey)\n",
    "plot!(xlim = (minimum(wall_r)*0.9, maximum(wall_r)*1.1))\n",
    "# plot!(ylim = (-5,5))\n",
    "display(plot!())\n"
   ]
  },
  {
   "cell_type": "code",
   "execution_count": null,
   "metadata": {},
   "outputs": [],
   "source": [
    "eqt = dd.equilibrium.time_slice[]\n",
    "wall_r = IMAS.first_wall(dd.wall).r\n",
    "wall_z = IMAS.first_wall(dd.wall).z;\n",
    "\n",
    "# HF = WallHFMapper(eqt,SOL,wall_r,wall_z,r,q); # map heat flux\n",
    "1"
   ]
  },
  {
   "cell_type": "code",
   "execution_count": null,
   "metadata": {},
   "outputs": [],
   "source": [
    "### different recepies for plotting\n",
    "# plot(HF)\n",
    "# plot(HF, q = :parallel)\n",
    "# plot(HF, q = :both)\n",
    "# plot(HF, q = :both, cat = true)\n",
    "# plot(HF, q = :both, plot_type = :scatter, cat = true)\n",
    "# display(plot(HF, which_plot = :oneD))\n",
    "# plot(HF, which_plot = :oneD, q = :wall)\n",
    "# plot(HF, which_plot = :oneD, q = :both)"
   ]
  },
  {
   "cell_type": "code",
   "execution_count": null,
   "metadata": {},
   "outputs": [],
   "source": [
    "# l = 0.005\n",
    "# l2 = 0.05\n",
    "# frac = 0.2\n",
    "# r = collect(LinRange(0,7*maximum([l,l2]),10000)) # Ideally: from r separatrix to r max grid\n",
    "# q = IMAS.power_sol(dd)     /2/N/π/(R0+a)/l /sin(atan(IMAS.Bpol_omp(eqt)/abs(Bt_omp)))*exp.(-r./l)+\n",
    "#     IMAS.power_sol(dd)*frac/2/N/π/(R0+a)/l2/sin(atan(IMAS.Bpol_omp(eqt)/abs(Bt_omp)))*exp.(-r./l2)\n",
    "HF = WallHFMapper(dd,r,q, merge_wall = true, N = Int(1E6));\n",
    "\n",
    "# plot(plot(HF, which_plot = :oneD), plot(HF, plot_type = :scatter))\n",
    "\n",
    "\n",
    "# plot!(xlim = (20,22))\n",
    "1\n",
    "\n",
    "# @show maximum(HF.q_core_rad) \n",
    "# @show maximum(HF.q_core_rad./4.9784699141794324e8) \n",
    "# display(plot(HF, which_plot = :twoD, q = :core_rad, plot_type = :scatter))\n",
    "\n",
    "# plot(size = (4000,500))\n",
    "plot(log10.(HF.q_core_rad .+1))\n",
    "plot!(log10.(HF.q_core_rad .+1), seriestype = :scatter, ms =1)\n",
    "plot!(legend = :none)\n"
   ]
  },
  {
   "cell_type": "code",
   "execution_count": null,
   "metadata": {},
   "outputs": [],
   "source": [
    "sum(HF.q_core_rad .<0)"
   ]
  },
  {
   "cell_type": "code",
   "execution_count": null,
   "metadata": {},
   "outputs": [],
   "source": [
    "\n",
    "_, psi_separatrix = IMAS.find_psi_boundary(dd)\n",
    "surface, _ = IMAS.flux_surface(eqt,psi_separatrix, :open)\n",
    "p1 = plot(HF, which_plot = :oneD, q = :core_rad)\n",
    "\n",
    "p2 = plot(HF, q = :corerad)\n",
    "\n",
    "ll = @layout [a{0.6w,0.9h} b{0.4w}]\n",
    "p = plot(; layout=ll, size=(1000, 500))\n",
    "plot!(HF, which_plot = :oneD, q = :core_rad; subplot =1)\n",
    "\n",
    "plot!(HF, q = :core_rad, plot_type =  :scatter; subplot =2)\n",
    "display(plot!(surface[1], color = :grey; subplot =2))\n",
    "1\n",
    "\n",
    "p1 = plot(HF, which_plot = :oneD, q = :part)\n",
    "\n",
    "p2 = plot(HF, q = :part)\n",
    "\n",
    "ll = @layout [a{0.6w,0.9h} b{0.4w}]\n",
    "p = plot(; layout=ll, size=(1000, 500))\n",
    "plot!(HF, which_plot = :oneD, q = :part; subplot =1)\n",
    "# plot!(xlim=(16,20); subplot = 1)\n",
    "plot!(HF, q = :part, plot_type =  :path; subplot =2)\n",
    "# plot!(ylim = (1.0,Inf), xlim=(0.9,1.4); subplot = 2)\n",
    "plot!([0, maximum(HF.r)*1.1], [ZA,ZA], ls = :dash, color = :grey; subplot = 2)\n",
    "# plot!([0, maximum(HF.r)*1.1], -2*[ZA,ZA], ls = :dash, color = :grey; subplot = 2)\n",
    "# plot!(dd.wall, lw =1; subplot = 2)\n",
    "display(plot!(surface[1], color = :grey; subplot =2))\n",
    "# plot( size=(4000,500))\n",
    "# display(plot!(HF.z[2:end]-HF.z[1:end-1], st = :scatter, ms =1, label = \"\"))\n",
    "# plot( size=(4000,500))\n",
    "# plot!(HF.z)"
   ]
  },
  {
   "cell_type": "code",
   "execution_count": null,
   "metadata": {},
   "outputs": [],
   "source": [
    "wall_r[1:10]\n",
    "\n"
   ]
  },
  {
   "cell_type": "code",
   "execution_count": null,
   "metadata": {},
   "outputs": [],
   "source": [
    "HF.q_part[HF.q_part.<0]\n",
    "\n"
   ]
  },
  {
   "cell_type": "code",
   "execution_count": null,
   "metadata": {},
   "outputs": [],
   "source": [
    "@show maximum(HF.q_core_rad/1e6) \n",
    "@show sum(HF.q_core_rad)/length(HF.q_core_rad)\n",
    "@show maximum(HF.q_core_rad/1e6) * 8e7/4.133741864504699e7\n",
    "@show sum(HF.q_core_rad)/length(HF.q_core_rad) * 8e7/4.133741864504699e7\n",
    "@show 0.048837751067294446 * 8e7/4.133741864504699e7\n",
    "# display(plot(HF, which_plot = :twoD, q = :core_rad, plot_type = :scatter))\n",
    "\n",
    "plot(size = (4000,500))\n",
    "plot!(HF.s, (HF.q_core_rad)./4.9784699141794324e8)\n",
    "plot!(HF.s,(HF.q_core_rad)./4.9784699141794324e8, seriestype = :scatter, ms = 1)\n",
    "plot!(legend = :none)\n",
    "# plot!(HF, which_plot = :oneD, q = :core_rad)"
   ]
  },
  {
   "cell_type": "code",
   "execution_count": null,
   "metadata": {},
   "outputs": [],
   "source": [
    "\n",
    "\n",
    "N = Int(1E6)\n",
    "act.ActorNeutronics.N = N\n",
    "act.ActorNeutronics.do_plot = true\n",
    "FUSE.ActorNeutronics(dd,act)\n",
    "# @show length(dd.neutronics.first_wall.r)\n",
    "xlim = extrema(dd.neutronics.first_wall.r)\n",
    "xlim = (xlim[1] - ((xlim[2] - xlim[1]) / 10.0), xlim[2] + ((xlim[2] - xlim[1]) / 10.0))\n",
    "l = @layout [a{0.3w} b{0.6w,0.9h}]\n",
    "p = plot(; layout=l, size=(900, 400))\n",
    "plot!(dd.neutronics.time_slice[].wall_loading; cx=false, subplot=2, ylabel=\"\")\n"
   ]
  },
  {
   "cell_type": "code",
   "execution_count": null,
   "metadata": {},
   "outputs": [],
   "source": [
    "# ###### Works with all cases available\n",
    "# dd = IMAS.dd();\n",
    "# # ini, act = FUSE.case_parameters(:ITER, init_from = :ods) \n",
    "# # ini, act = FUSE.case_parameters(:ITER, init_from = :scalars) \n",
    "# # ini, act = FUSE.case_parameters(:FPP, version = :v2) \n",
    "# # ini, act = FUSE.case_parameters(:DTT) # ok\n",
    "# # ini, act = FUSE.case_parameters(:KDEMO) # ok\n",
    "# # ini, act = FUSE.case_parameters(:ARC) # ok \n",
    "# # ini, act = FUSE.case_parameters(:SPARC) # ok\n",
    "# # ini, act = FUSE.case_parameters(:STEP) # ok\n",
    "# ini, act = FUSE.case_parameters(:D3D) \n",
    "# dd = FUSE.init(ini,act);\n",
    "# 1;"
   ]
  },
  {
   "cell_type": "code",
   "execution_count": null,
   "metadata": {},
   "outputs": [],
   "source": [
    "# l = 0.003\n",
    "# l2 = 0.1\n",
    "# frac = 0.15\n",
    "# r = collect(LinRange(0,6*maximum([l,l2]),10000)) # Ideally: from r separatrix to r max grid\n",
    "# q = IMAS.power_sol(dd)     /2/N/π/(R0+a)/l /sin(atan(IMAS.Bpol_omp(eqt)/abs(Bt_omp)))*exp.(-r./l)+\n",
    "#     IMAS.power_sol(dd)*frac/2/N/π/(R0+a)/l2/sin(atan(IMAS.Bpol_omp(eqt)/abs(Bt_omp)))*exp.(-r./l2)\n",
    "\n",
    "# HF = WallHFMapper(dd,r,q, merge_wall = true);\n",
    "# eqt = dd.equilibrium.time_slice[]\n",
    "# _, psi_separatrix = IMAS.find_psi_boundary(dd)\n",
    "# psi_2ndseparatrix = IMAS.find_psi_2nd_separatrix(dd)\n",
    "# surface, _  = IMAS.flux_surface(eqt,psi_2ndseparatrix, :open)\n",
    "# surface2, _ = IMAS.flux_surface(eqt,psi_separatrix,:open);\n",
    "# p1 = plot(dd.wall,lw=1)\n",
    "# plot!(collect(surface), color = :gray)\n",
    "# plot!(collect(surface2), color = :gray)\n",
    "# plot!(HF, plot_type = :path)\n",
    "# plot(plot(HF, which_plot = :oneD), p1)\n",
    "\n",
    "# # plot(HF, which_plot = :oneD)\n"
   ]
  },
  {
   "cell_type": "code",
   "execution_count": null,
   "metadata": {},
   "outputs": [],
   "source": [
    "@show (HF.z[1], HF.z[end])"
   ]
  },
  {
   "cell_type": "code",
   "execution_count": null,
   "metadata": {},
   "outputs": [],
   "source": [
    "plot(HF.r,HF.z,st =:scatter, aspect_ratio = :equal, ms = 1)\n",
    "plot!(HF.r,HF.z)\n",
    "plot!(legend = :none)"
   ]
  },
  {
   "cell_type": "code",
   "execution_count": null,
   "metadata": {},
   "outputs": [],
   "source": [
    "\n",
    "_, psi_separatrix = IMAS.find_psi_boundary(dd)\n",
    "surface, _ = IMAS.flux_surface(eqt,psi_separatrix, :open)\n",
    "# plot(dd.wall, lw =1)\n",
    "# plot!(SOL[:lfs_far][end], colorbar = false)\n",
    "# plot(HF, q = :part, which_plot = :oneD)\n",
    "plot(HF, q = :part, plot_type = :scatter)\n",
    "plot!(surface[1], color = :gray)\n"
   ]
  },
  {
   "cell_type": "code",
   "execution_count": null,
   "metadata": {},
   "outputs": [],
   "source": []
  }
 ],
 "metadata": {
  "kernelspec": {
   "display_name": "Julia 1.9.4",
   "language": "julia",
   "name": "julia-1.9"
  },
  "language_info": {
   "file_extension": ".jl",
   "mimetype": "application/julia",
   "name": "julia",
   "version": "1.9.4"
  },
  "orig_nbformat": 4
 },
 "nbformat": 4,
 "nbformat_minor": 2
}
